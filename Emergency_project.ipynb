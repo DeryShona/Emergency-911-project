{
  "cells": [
    {
      "cell_type": "markdown",
      "metadata": {
        "id": "Tqo1-4ftknhu"
      },
      "source": [
        "# Import Libraries"
      ]
    },
    {
      "cell_type": "code",
      "execution_count": 1,
      "metadata": {
        "colab": {
          "base_uri": "https://localhost:8080/"
        },
        "id": "-mLOC_RKDMko",
        "outputId": "4d2cecdb-b688-49ca-e2c9-a6c39caf56be"
      },
      "outputs": [
        {
          "output_type": "stream",
          "name": "stdout",
          "text": [
            "Looking in indexes: https://pypi.org/simple, https://us-python.pkg.dev/colab-wheels/public/simple/\n",
            "Requirement already satisfied: mlxtend in /usr/local/lib/python3.7/dist-packages (0.14.0)\n",
            "Collecting mlxtend\n",
            "  Downloading mlxtend-0.21.0-py2.py3-none-any.whl (1.3 MB)\n",
            "\u001b[K     |████████████████████████████████| 1.3 MB 20.7 MB/s \n",
            "\u001b[?25hRequirement already satisfied: joblib>=0.13.2 in /usr/local/lib/python3.7/dist-packages (from mlxtend) (1.2.0)\n",
            "Requirement already satisfied: scipy>=1.2.1 in /usr/local/lib/python3.7/dist-packages (from mlxtend) (1.7.3)\n",
            "Requirement already satisfied: matplotlib>=3.0.0 in /usr/local/lib/python3.7/dist-packages (from mlxtend) (3.2.2)\n",
            "Requirement already satisfied: scikit-learn>=1.0.2 in /usr/local/lib/python3.7/dist-packages (from mlxtend) (1.0.2)\n",
            "Requirement already satisfied: numpy>=1.16.2 in /usr/local/lib/python3.7/dist-packages (from mlxtend) (1.21.6)\n",
            "Requirement already satisfied: setuptools in /usr/local/lib/python3.7/dist-packages (from mlxtend) (57.4.0)\n",
            "Requirement already satisfied: pandas>=0.24.2 in /usr/local/lib/python3.7/dist-packages (from mlxtend) (1.3.5)\n",
            "Requirement already satisfied: kiwisolver>=1.0.1 in /usr/local/lib/python3.7/dist-packages (from matplotlib>=3.0.0->mlxtend) (1.4.4)\n",
            "Requirement already satisfied: pyparsing!=2.0.4,!=2.1.2,!=2.1.6,>=2.0.1 in /usr/local/lib/python3.7/dist-packages (from matplotlib>=3.0.0->mlxtend) (3.0.9)\n",
            "Requirement already satisfied: cycler>=0.10 in /usr/local/lib/python3.7/dist-packages (from matplotlib>=3.0.0->mlxtend) (0.11.0)\n",
            "Requirement already satisfied: python-dateutil>=2.1 in /usr/local/lib/python3.7/dist-packages (from matplotlib>=3.0.0->mlxtend) (2.8.2)\n",
            "Requirement already satisfied: typing-extensions in /usr/local/lib/python3.7/dist-packages (from kiwisolver>=1.0.1->matplotlib>=3.0.0->mlxtend) (4.1.1)\n",
            "Requirement already satisfied: pytz>=2017.3 in /usr/local/lib/python3.7/dist-packages (from pandas>=0.24.2->mlxtend) (2022.5)\n",
            "Requirement already satisfied: six>=1.5 in /usr/local/lib/python3.7/dist-packages (from python-dateutil>=2.1->matplotlib>=3.0.0->mlxtend) (1.15.0)\n",
            "Requirement already satisfied: threadpoolctl>=2.0.0 in /usr/local/lib/python3.7/dist-packages (from scikit-learn>=1.0.2->mlxtend) (3.1.0)\n",
            "Installing collected packages: mlxtend\n",
            "  Attempting uninstall: mlxtend\n",
            "    Found existing installation: mlxtend 0.14.0\n",
            "    Uninstalling mlxtend-0.14.0:\n",
            "      Successfully uninstalled mlxtend-0.14.0\n",
            "Successfully installed mlxtend-0.21.0\n"
          ]
        }
      ],
      "source": [
        "!pip install mlxtend --upgrade"
      ]
    },
    {
      "cell_type": "code",
      "execution_count": 2,
      "metadata": {
        "colab": {
          "base_uri": "https://localhost:8080/"
        },
        "id": "pcKeyoSrULVd",
        "outputId": "0713778d-48d8-483c-f172-690ce720b2e3"
      },
      "outputs": [
        {
          "output_type": "stream",
          "name": "stdout",
          "text": [
            "Reading package lists... Done\n",
            "Building dependency tree       \n",
            "Reading state information... Done\n",
            "The following package was automatically installed and is no longer required:\n",
            "  libnvidia-common-460\n",
            "Use 'apt autoremove' to remove it.\n",
            "The following additional packages will be installed:\n",
            "  libspatialindex-c4v5 libspatialindex4v5\n",
            "The following NEW packages will be installed:\n",
            "  libspatialindex-c4v5 libspatialindex-dev libspatialindex4v5\n",
            "0 upgraded, 3 newly installed, 0 to remove and 4 not upgraded.\n",
            "Need to get 555 kB of archives.\n",
            "After this operation, 3,308 kB of additional disk space will be used.\n",
            "Get:1 http://archive.ubuntu.com/ubuntu bionic/universe amd64 libspatialindex4v5 amd64 1.8.5-5 [219 kB]\n",
            "Get:2 http://archive.ubuntu.com/ubuntu bionic/universe amd64 libspatialindex-c4v5 amd64 1.8.5-5 [51.7 kB]\n",
            "Get:3 http://archive.ubuntu.com/ubuntu bionic/universe amd64 libspatialindex-dev amd64 1.8.5-5 [285 kB]\n",
            "Fetched 555 kB in 2s (223 kB/s)\n",
            "Selecting previously unselected package libspatialindex4v5:amd64.\n",
            "(Reading database ... 123942 files and directories currently installed.)\n",
            "Preparing to unpack .../libspatialindex4v5_1.8.5-5_amd64.deb ...\n",
            "Unpacking libspatialindex4v5:amd64 (1.8.5-5) ...\n",
            "Selecting previously unselected package libspatialindex-c4v5:amd64.\n",
            "Preparing to unpack .../libspatialindex-c4v5_1.8.5-5_amd64.deb ...\n",
            "Unpacking libspatialindex-c4v5:amd64 (1.8.5-5) ...\n",
            "Selecting previously unselected package libspatialindex-dev:amd64.\n",
            "Preparing to unpack .../libspatialindex-dev_1.8.5-5_amd64.deb ...\n",
            "Unpacking libspatialindex-dev:amd64 (1.8.5-5) ...\n",
            "Setting up libspatialindex4v5:amd64 (1.8.5-5) ...\n",
            "Setting up libspatialindex-c4v5:amd64 (1.8.5-5) ...\n",
            "Setting up libspatialindex-dev:amd64 (1.8.5-5) ...\n",
            "Processing triggers for libc-bin (2.27-3ubuntu1.6) ...\n",
            "Looking in indexes: https://pypi.org/simple, https://us-python.pkg.dev/colab-wheels/public/simple/\n",
            "Collecting rtree\n",
            "  Downloading Rtree-1.0.1-cp37-cp37m-manylinux_2_17_x86_64.manylinux2014_x86_64.whl (1.0 MB)\n",
            "\u001b[K     |████████████████████████████████| 1.0 MB 17.5 MB/s \n",
            "\u001b[?25hRequirement already satisfied: typing-extensions>=3.7 in /usr/local/lib/python3.7/dist-packages (from rtree) (4.1.1)\n",
            "Installing collected packages: rtree\n",
            "Successfully installed rtree-1.0.1\n",
            "Looking in indexes: https://pypi.org/simple, https://us-python.pkg.dev/colab-wheels/public/simple/\n",
            "Collecting geopandas\n",
            "  Downloading geopandas-0.10.2-py2.py3-none-any.whl (1.0 MB)\n",
            "\u001b[K     |████████████████████████████████| 1.0 MB 12.3 MB/s \n",
            "\u001b[?25hRequirement already satisfied: pandas>=0.25.0 in /usr/local/lib/python3.7/dist-packages (from geopandas) (1.3.5)\n",
            "Collecting pyproj>=2.2.0\n",
            "  Downloading pyproj-3.2.1-cp37-cp37m-manylinux2010_x86_64.whl (6.3 MB)\n",
            "\u001b[K     |████████████████████████████████| 6.3 MB 47.0 MB/s \n",
            "\u001b[?25hRequirement already satisfied: shapely>=1.6 in /usr/local/lib/python3.7/dist-packages (from geopandas) (1.8.5.post1)\n",
            "Collecting fiona>=1.8\n",
            "  Downloading Fiona-1.8.22-cp37-cp37m-manylinux2014_x86_64.whl (16.7 MB)\n",
            "\u001b[K     |████████████████████████████████| 16.7 MB 50.0 MB/s \n",
            "\u001b[?25hRequirement already satisfied: click>=4.0 in /usr/local/lib/python3.7/dist-packages (from fiona>=1.8->geopandas) (7.1.2)\n",
            "Collecting click-plugins>=1.0\n",
            "  Downloading click_plugins-1.1.1-py2.py3-none-any.whl (7.5 kB)\n",
            "Requirement already satisfied: certifi in /usr/local/lib/python3.7/dist-packages (from fiona>=1.8->geopandas) (2022.9.24)\n",
            "Collecting munch\n",
            "  Downloading munch-2.5.0-py2.py3-none-any.whl (10 kB)\n",
            "Requirement already satisfied: attrs>=17 in /usr/local/lib/python3.7/dist-packages (from fiona>=1.8->geopandas) (22.1.0)\n",
            "Collecting cligj>=0.5\n",
            "  Downloading cligj-0.7.2-py3-none-any.whl (7.1 kB)\n",
            "Requirement already satisfied: six>=1.7 in /usr/local/lib/python3.7/dist-packages (from fiona>=1.8->geopandas) (1.15.0)\n",
            "Requirement already satisfied: setuptools in /usr/local/lib/python3.7/dist-packages (from fiona>=1.8->geopandas) (57.4.0)\n",
            "Requirement already satisfied: numpy>=1.17.3 in /usr/local/lib/python3.7/dist-packages (from pandas>=0.25.0->geopandas) (1.21.6)\n",
            "Requirement already satisfied: pytz>=2017.3 in /usr/local/lib/python3.7/dist-packages (from pandas>=0.25.0->geopandas) (2022.5)\n",
            "Requirement already satisfied: python-dateutil>=2.7.3 in /usr/local/lib/python3.7/dist-packages (from pandas>=0.25.0->geopandas) (2.8.2)\n",
            "Installing collected packages: munch, cligj, click-plugins, pyproj, fiona, geopandas\n",
            "Successfully installed click-plugins-1.1.1 cligj-0.7.2 fiona-1.8.22 geopandas-0.10.2 munch-2.5.0 pyproj-3.2.1\n"
          ]
        }
      ],
      "source": [
        "!apt install libspatialindex-dev\n",
        "!pip install rtree\n",
        "!pip install geopandas\n",
        "\n"
      ]
    },
    {
      "cell_type": "code",
      "execution_count": 3,
      "metadata": {
        "id": "jK1C6orIj-zr"
      },
      "outputs": [],
      "source": [
        "import math\n",
        "import pandas as pd\n",
        "import numpy as np\n",
        "from dateutil import relativedelta\n",
        "\n",
        "import matplotlib.pyplot as plt\n",
        "import seaborn as sns\n",
        "%matplotlib inline\n",
        "\n",
        "import geopandas as gpd\n",
        "import folium\n",
        "from folium import Choropleth, Circle, Marker\n",
        "from folium.plugins import HeatMap, MarkerCluster"
      ]
    },
    {
      "cell_type": "markdown",
      "metadata": {
        "id": "GF72QOmIlTHq"
      },
      "source": [
        "# Loading Data"
      ]
    },
    {
      "cell_type": "code",
      "execution_count": 4,
      "metadata": {
        "id": "PflX3S84kHfR"
      },
      "outputs": [],
      "source": [
        "url = 'https://raw.githubusercontent.com/iamamofa/dataset-shona/main/shona.csv'\n",
        "dataset = pd.read_csv(url)"
      ]
    },
    {
      "cell_type": "code",
      "execution_count": 5,
      "metadata": {
        "colab": {
          "base_uri": "https://localhost:8080/"
        },
        "id": "e_1HCAnqkMmv",
        "outputId": "8814cd74-c3c5-4154-bbfd-92689285d4ff"
      },
      "outputs": [
        {
          "output_type": "execute_result",
          "data": {
            "text/plain": [
              "<bound method NDFrame.head of            lat       lng    zip  \\\n",
              "0     5.635828 -0.161359  233.0   \n",
              "1     5.644369 -0.185427  233.0   \n",
              "2     5.633940 -0.174082  233.0   \n",
              "3     5.651038 -0.135459  233.0   \n",
              "4     5.652202 -0.188107  233.0   \n",
              "...        ...       ...    ...   \n",
              "3028  6.166068 -1.141299  233.0   \n",
              "3029  5.529817 -0.705779  233.0   \n",
              "3030  5.529817 -0.705779  233.0   \n",
              "3031  5.569648 -0.287579  233.0   \n",
              "3032  6.702649 -1.604459  233.0   \n",
              "\n",
              "                                                 desc  \\\n",
              "0           East Legon, Accra, Ghana,11/10/2015@15:20   \n",
              "1        Noguchie Link, Accra, Ghana,11/10/2015@17:35   \n",
              "2             Shiashie, Accra, Ghana,11/10/2015@14:39   \n",
              "3        Adjiringanor, Madina, Ghana,11/10/2015@16:47   \n",
              "4     W.E.B. Dubois Rd, Accra, Ghana,11/10/2015@16:56   \n",
              "...                                               ...   \n",
              "3028                   Ofoase, Ghana,04/03/2016@15:24   \n",
              "3029             Agona Swedru, Ghana,04/03/2016@15:30   \n",
              "3030             Agona Swedru, Ghana,04/03/2016@15:27   \n",
              "3031         HP96+VX3, Mallam, Ghana,04/03/2016@15:29   \n",
              "3032          Asawasi, Kumasi, Ghana,04/03/2016@15:34   \n",
              "\n",
              "                            title         timeStamp           twp  \\\n",
              "0          EMS: BACK PAINS/INJURY  11/10/2015 15:20         Accra   \n",
              "1         EMS: DIABETIC EMERGENCY  11/10/2015 17:35         Accra   \n",
              "2             Fire: GAS-ODOR/LEAK  11/10/2015 14:39         Accra   \n",
              "3          EMS: CARDIAC EMERGENCY  11/10/2015 16:47        Madina   \n",
              "4                  EMS: DIZZINESS  11/10/2015 16:56         Accra   \n",
              "...                           ...               ...           ...   \n",
              "3028          Fire: GAS-ODOR/LEAK    4/3/2016 15:24        Ofoase   \n",
              "3029  Traffic: VEHICLE ACCIDENT -    4/3/2016 15:30  Agona Swedru   \n",
              "3030  Traffic: VEHICLE ACCIDENT -    4/3/2016 15:27  Agona Swedru   \n",
              "3031  Traffic: VEHICLE ACCIDENT -    4/3/2016 15:29        Mallam   \n",
              "3032     Fire: FIRE POLICE NEEDED    4/3/2016 15:34        Kumasi   \n",
              "\n",
              "                                                   addr  e  \n",
              "0                                            east legon  1  \n",
              "1                                        vikings hostel  1  \n",
              "2                                              shiashie  1  \n",
              "3                                          adjiringanor  1  \n",
              "4                 university of ghana computing systems  1  \n",
              "...                                                 ... ..  \n",
              "3028  Tabi-Agyei Adventist Preparatory School, Ofoas...  1  \n",
              "3029                                Swedru Star Academy  1  \n",
              "3030                   Swedru Emmanuel Ministry Academy  1  \n",
              "3031  Susan Owusu Memorial Methodist International S...  1  \n",
              "3032    Supreme God First Educational Complex, Asawasi,  1  \n",
              "\n",
              "[3033 rows x 9 columns]>"
            ]
          },
          "metadata": {},
          "execution_count": 5
        }
      ],
      "source": [
        "dataset.head"
      ]
    },
    {
      "cell_type": "markdown",
      "metadata": {
        "id": "da-wZSNYszpX"
      },
      "source": [
        "\n",
        "\n",
        "---\n",
        "\n"
      ]
    },
    {
      "cell_type": "markdown",
      "metadata": {
        "id": "wHjeZmqelYQ8"
      },
      "source": [
        "# Data Understanding and Cleaning"
      ]
    },
    {
      "cell_type": "code",
      "execution_count": 6,
      "metadata": {
        "colab": {
          "base_uri": "https://localhost:8080/"
        },
        "id": "PFZigjeVkQNl",
        "outputId": "2865f54a-9d56-4fcd-f240-cc4bb2933416"
      },
      "outputs": [
        {
          "output_type": "execute_result",
          "data": {
            "text/plain": [
              "(3033, 9)"
            ]
          },
          "metadata": {},
          "execution_count": 6
        }
      ],
      "source": [
        "dataset.shape"
      ]
    },
    {
      "cell_type": "markdown",
      "metadata": {
        "id": "H5lJPLoSmgFq"
      },
      "source": [
        "**Observations**\n",
        "\n",
        "\n",
        "*  Dataset comprises of 3033 observations and 9 fields.\n",
        "\n",
        "\n"
      ]
    },
    {
      "cell_type": "code",
      "execution_count": 7,
      "metadata": {
        "colab": {
          "base_uri": "https://localhost:8080/"
        },
        "id": "qm1uo5Omlw6-",
        "outputId": "879c3396-a41d-461e-92ef-9c1c465d3b05"
      },
      "outputs": [
        {
          "output_type": "stream",
          "name": "stdout",
          "text": [
            "<class 'pandas.core.frame.DataFrame'>\n",
            "RangeIndex: 3033 entries, 0 to 3032\n",
            "Data columns (total 9 columns):\n",
            " #   Column     Non-Null Count  Dtype  \n",
            "---  ------     --------------  -----  \n",
            " 0   lat        3033 non-null   float64\n",
            " 1   lng        3033 non-null   float64\n",
            " 2   zip        3023 non-null   float64\n",
            " 3   desc       3033 non-null   object \n",
            " 4   title      3033 non-null   object \n",
            " 5   timeStamp  3033 non-null   object \n",
            " 6   twp        2390 non-null   object \n",
            " 7   addr       3032 non-null   object \n",
            " 8   e          3033 non-null   int64  \n",
            "dtypes: float64(3), int64(1), object(5)\n",
            "memory usage: 213.4+ KB\n"
          ]
        }
      ],
      "source": [
        "dataset.info()"
      ]
    },
    {
      "cell_type": "markdown",
      "metadata": {
        "id": "vYFtn3DpnmSe"
      },
      "source": [
        "**Observations**\n",
        "\n",
        "*   Data has float, integer, and object type values.\n",
        "\n",
        "*   Data type of timeStamp is object that need to convert to datetime.\n",
        "\n",
        "\n",
        "\n"
      ]
    },
    {
      "cell_type": "code",
      "execution_count": 8,
      "metadata": {
        "colab": {
          "base_uri": "https://localhost:8080/"
        },
        "id": "xpjW_OwbpMb4",
        "outputId": "691de7d7-c428-4367-a305-cda65816f45b"
      },
      "outputs": [
        {
          "output_type": "execute_result",
          "data": {
            "text/plain": [
              "Index(['lat', 'lng', 'zip', 'desc', 'title', 'timeStamp', 'twp', 'addr', 'e'], dtype='object')"
            ]
          },
          "metadata": {},
          "execution_count": 8
        }
      ],
      "source": [
        "dataset.columns"
      ]
    },
    {
      "cell_type": "markdown",
      "metadata": {
        "id": "oCdEKU5Vpep7"
      },
      "source": [
        "**Observations**\n",
        "\n",
        "The data contains the following fields:\n",
        "* lat : String variable, Latitude\n",
        "* lng: String variable, Longitude\n",
        "* desc: String variable, Description of the Emergency Call\n",
        "* zip: String variable, Zipcode\n",
        "* title: String variable, Title\n",
        "* timeStamp: String variable, YYYY-MM-DD HH:MM:SS\n",
        "* twp: String variable, Township\n",
        "* addr: String variable, Address\n",
        "* e: String variable, Dummy variable (always 1)\n",
        "\n"
      ]
    },
    {
      "cell_type": "code",
      "execution_count": 9,
      "metadata": {
        "id": "r-Of6kWdpZLk"
      },
      "outputs": [],
      "source": [
        "dataset.drop('e', axis=1, inplace=True)"
      ]
    },
    {
      "cell_type": "code",
      "execution_count": 10,
      "metadata": {
        "colab": {
          "base_uri": "https://localhost:8080/"
        },
        "id": "qZkOnxRUrDwi",
        "outputId": "c8d3ef1b-944c-4840-d754-877f71f9d91f"
      },
      "outputs": [
        {
          "output_type": "execute_result",
          "data": {
            "text/plain": [
              "str"
            ]
          },
          "metadata": {},
          "execution_count": 10
        }
      ],
      "source": [
        "type(dataset['timeStamp'].iloc[1])"
      ]
    },
    {
      "cell_type": "code",
      "execution_count": 11,
      "metadata": {
        "colab": {
          "base_uri": "https://localhost:8080/"
        },
        "id": "HK9qMduerYzQ",
        "outputId": "965634bd-e5ba-4e40-9d9b-2a0292b4da0b"
      },
      "outputs": [
        {
          "output_type": "stream",
          "name": "stdout",
          "text": [
            "0 years and 4 months\n"
          ]
        }
      ],
      "source": [
        "dataset['timeStamp'] = pd.to_datetime(dataset['timeStamp'])\n",
        "\n",
        "mindate = dataset[\"timeStamp\"].min()\n",
        "maxdate = dataset[\"timeStamp\"].max()\n",
        "dif = relativedelta.relativedelta(pd.to_datetime(maxdate), pd.to_datetime(mindate))\n",
        "print(\"{} years and {} months\".format(dif.years, dif.months))\n",
        "\n"
      ]
    },
    {
      "cell_type": "markdown",
      "metadata": {
        "id": "eDgce6nfsbHw"
      },
      "source": [
        "**Observations**\n",
        "\n",
        "* So in a 4 years and 7 months of time span from Dec 2015 to April 2020, about 6.3 hundred people called emergency number 911 to get help in Montgomery County, PA."
      ]
    },
    {
      "cell_type": "code",
      "execution_count": 12,
      "metadata": {
        "id": "nnv6XSIgsicm"
      },
      "outputs": [],
      "source": [
        "dataset['Hour'] = dataset['timeStamp'].apply(lambda time: time.hour)\n",
        "\n",
        "dataset['Day'] = dataset['timeStamp'].apply(lambda time: time.dayofweek)\n",
        "dmap = {0:'Mon',1:'Tue',2:'Wed',3:'Thu',4:'Fri',5:'Sat',6:'Sun'}\n",
        "dataset['Day'] = dataset['Day'].map(dmap)\n",
        "\n",
        "\n",
        "dataset['Month'] = dataset['timeStamp'].apply(lambda time: time.month)\n",
        "dmap = {1:'January',2:'February',3:'March',4:'April',5:'May',6:'June',7:'July', 8:'August', 9:'September', 10:'October', 11:'November', 12:'December'}\n",
        "dataset['Month'] = dataset['Month'].map(dmap)\n",
        "\n",
        "dataset['Year'] = dataset['timeStamp'].apply(lambda time: time.year)\n",
        "\n",
        "dataset['Date'] = dataset['timeStamp'].apply(lambda time:time.date())"
      ]
    },
    {
      "cell_type": "markdown",
      "metadata": {
        "id": "qHCY6s7qtDHF"
      },
      "source": [
        "\n",
        "\n",
        "---\n",
        "\n"
      ]
    },
    {
      "cell_type": "markdown",
      "metadata": {
        "id": "2u0R8WDptZ5L"
      },
      "source": [
        "### 'desc' field : Description of the Emergency Call"
      ]
    },
    {
      "cell_type": "markdown",
      "metadata": {
        "id": "nBltHBAXuzs2"
      },
      "source": [
        "'desc' field contains three information, Address, Township and Station code seperated by semi-column. So lets seperate them out to get the station code, to which the call has been made and drop the 'desc' field.\n"
      ]
    },
    {
      "cell_type": "code",
      "execution_count": 13,
      "metadata": {
        "id": "Ynw6hJagvPFT"
      },
      "outputs": [],
      "source": [
        "dataset['station_code']=dataset['desc'].str.split('Station', expand=True)[1].str.split(';', expand=True)[0]\n",
        "dataset['station_code'] = dataset['station_code'].str.replace(':', '')\n",
        "dataset['station_code']= dataset['station_code'].str.strip()\n",
        "dataset['station_code'].head(10)\n",
        "\n",
        "dataset.drop(['desc'], axis=1, inplace=True)"
      ]
    },
    {
      "cell_type": "markdown",
      "metadata": {
        "id": "HDMYo_JMv_Yj"
      },
      "source": [
        "In the titles column there are \"Reasons/Departments\" specified before the title code. These are EMS, Fire, and Traffic. So lets split into Type and Reason."
      ]
    },
    {
      "cell_type": "code",
      "execution_count": 14,
      "metadata": {
        "id": "lcBd74BgwJhp"
      },
      "outputs": [],
      "source": [
        "dataset['Type'] = dataset[\"title\"].apply(lambda x: x.split(':')[0])\n",
        "dataset['Reason'] = dataset[\"title\"].apply(lambda x: x.split(':')[1])"
      ]
    },
    {
      "cell_type": "markdown",
      "metadata": {
        "id": "j6Qluiw_tKOQ"
      },
      "source": [
        "\n",
        "\n",
        "---\n",
        "\n"
      ]
    },
    {
      "cell_type": "markdown",
      "metadata": {
        "id": "zCmBE2FQssX9"
      },
      "source": [
        "# Exploratory Data Analysis (EDA)"
      ]
    },
    {
      "cell_type": "code",
      "execution_count": 15,
      "metadata": {
        "colab": {
          "base_uri": "https://localhost:8080/"
        },
        "id": "KZPi4QVJtLyI",
        "outputId": "b35c5ef7-d90a-44c1-c919-8e2bff6752d8"
      },
      "outputs": [
        {
          "output_type": "execute_result",
          "data": {
            "text/plain": [
              "EMS        1481\n",
              "Traffic    1148\n",
              "Fire        404\n",
              "Name: Type, dtype: int64"
            ]
          },
          "metadata": {},
          "execution_count": 15
        }
      ],
      "source": [
        "dataset[\"Type\"].value_counts()"
      ]
    },
    {
      "cell_type": "code",
      "execution_count": 16,
      "metadata": {
        "colab": {
          "base_uri": "https://localhost:8080/",
          "height": 405
        },
        "id": "6m1IO7buteu6",
        "outputId": "c3097dfa-649f-49e9-a16d-1b0f3dd6cec6"
      },
      "outputs": [
        {
          "output_type": "stream",
          "name": "stderr",
          "text": [
            "/usr/local/lib/python3.7/dist-packages/seaborn/_decorators.py:43: FutureWarning: Pass the following variable as a keyword arg: x. From version 0.12, the only valid positional argument will be `data`, and passing other arguments without an explicit keyword will result in an error or misinterpretation.\n",
            "  FutureWarning\n"
          ]
        },
        {
          "output_type": "display_data",
          "data": {
            "text/plain": [
              "<Figure size 1080x360 with 2 Axes>"
            ],
            "image/png": "[encoded data removed]"
          },
          "metadata": {
            "needs_background": "light"
          }
        }
      ],
      "source": [
        "f,ax=plt.subplots(1,2,figsize=(15,5))\n",
        "dataset['Type'].value_counts().plot.pie(explode=[0,0.1,0.1],autopct='%1.1f%%',ax=ax[0],shadow=True)\n",
        "ax[0].set_title('% COUNT OF REASON')\n",
        "ax[0].set_ylabel('count')\n",
        "sns.countplot('Type',data=dataset,ax=ax[1],order=dataset['Type'].value_counts().index)\n",
        "ax[1].set_title('COUNT OF REASON')\n",
        "plt.show()"
      ]
    },
    {
      "cell_type": "markdown",
      "metadata": {
        "id": "8MdGRpwWtila"
      },
      "source": [
        "**Observations**\n",
        "\n",
        "* The number one reason for 911 calls are Emergency Medical Services (EMS).\n",
        "* Almost half of the reasons are for EMS."
      ]
    },
    {
      "cell_type": "code",
      "execution_count": 17,
      "metadata": {
        "colab": {
          "base_uri": "https://localhost:8080/"
        },
        "id": "7iKKvgl2uOIa",
        "outputId": "8dd094ae-bd6b-42d7-f756-dc6faf150494"
      },
      "outputs": [
        {
          "output_type": "execute_result",
          "data": {
            "text/plain": [
              "Traffic: VEHICLE ACCIDENT -    844\n",
              "Traffic: DISABLED VEHICLE -    181\n",
              "EMS: CARDIAC EMERGENCY         165\n",
              "EMS: RESPIRATORY EMERGENCY     156\n",
              "Fire: FIRE ALARM               153\n",
              "                              ... \n",
              "EMS: FIRE SPECIAL SERVICE        1\n",
              "EMS: WARRANT SERVICE             1\n",
              "EMS: BURN VICTIM                 1\n",
              "Fire: BURN VICTIM                1\n",
              "EMS: ANIMAL BITE                 1\n",
              "Name: title, Length: 76, dtype: int64"
            ]
          },
          "metadata": {},
          "execution_count": 17
        }
      ],
      "source": [
        "dataset[\"title\"].value_counts()"
      ]
    },
    {
      "cell_type": "code",
      "execution_count": 18,
      "metadata": {
        "colab": {
          "base_uri": "https://localhost:8080/",
          "height": 295
        },
        "id": "kAMjg1mDtz1U",
        "outputId": "d01d588d-b8f6-4054-a47e-a95ef48e291c"
      },
      "outputs": [
        {
          "output_type": "display_data",
          "data": {
            "text/plain": [
              "<Figure size 720x288 with 1 Axes>"
            ],
            "image/png": "[encoded data removed]"
          },
          "metadata": {
            "needs_background": "light"
          }
        }
      ],
      "source": [
        "fig,ax=plt.subplots(figsize=(10,4))\n",
        "sns.countplot(y='title',data=dataset,order=dataset['title'].value_counts().head(10).index)\n",
        "plt.title('Top 10 reasons for 911 calls')\n",
        "plt.show()"
      ]
    },
    {
      "cell_type": "markdown",
      "metadata": {
        "id": "6RI9v7_dutjg"
      },
      "source": [
        "**Observations**\n",
        "\n",
        "The bar chart shows top 10 reason for 911 calls.\n",
        "* Vehicle accidents are the number one reason people call 911.\n",
        "* Disabled vehicle and fire alarm are in second and third place."
      ]
    },
    {
      "cell_type": "markdown",
      "metadata": {
        "id": "keCqvhAOtTX0"
      },
      "source": [
        "\n",
        "\n",
        "---\n",
        "\n"
      ]
    },
    {
      "cell_type": "markdown",
      "metadata": {
        "id": "X5mAqMjIvlkS"
      },
      "source": [
        "#### Traffic 911 Emergency Calls"
      ]
    },
    {
      "cell_type": "code",
      "execution_count": 19,
      "metadata": {
        "colab": {
          "base_uri": "https://localhost:8080/"
        },
        "id": "CgoVIeGMvQE9",
        "outputId": "19f3862c-2149-4be3-8146-ca5d9b854ecd"
      },
      "outputs": [
        {
          "output_type": "execute_result",
          "data": {
            "text/plain": [
              " VEHICLE ACCIDENT -             844\n",
              " DISABLED VEHICLE -             181\n",
              " ROAD OBSTRUCTION -              86\n",
              " HAZARDOUS ROAD CONDITIONS -     17\n",
              " VEHICLE FIRE -                  16\n",
              " DEBRIS/FLUIDS ON HIGHWAY -       2\n",
              " VEHICLE LEAKING FUEL -           2\n",
              "Name: Reason, dtype: int64"
            ]
          },
          "metadata": {},
          "execution_count": 19
        }
      ],
      "source": [
        "traffic=dataset[dataset['Type']=='Traffic']\n",
        "traffic['Reason'].value_counts()"
      ]
    },
    {
      "cell_type": "code",
      "execution_count": 20,
      "metadata": {
        "colab": {
          "base_uri": "https://localhost:8080/",
          "height": 295
        },
        "id": "ttxqAqORx3wG",
        "outputId": "9bc7e5b8-855e-4db5-b941-e2d9980d34bf"
      },
      "outputs": [
        {
          "output_type": "display_data",
          "data": {
            "text/plain": [
              "<Figure size 720x288 with 1 Axes>"
            ],
            "image/png": "[encoded data removed]"
          },
          "metadata": {
            "needs_background": "light"
          }
        }
      ],
      "source": [
        "fig,ax=plt.subplots(figsize=(10,4))\n",
        "sns.countplot(y='Reason',data=traffic,order=traffic['Reason'].value_counts().head(7).index, color='darkblue')\n",
        "ax.set_xlabel('Number of calls')\n",
        "plt.title('TRAFFIC 911 EMERGENCY CALLS DEPARTMENT')\n",
        "plt.show()"
      ]
    },
    {
      "cell_type": "markdown",
      "metadata": {
        "id": "T_dQSBiuxdCw"
      },
      "source": [
        "**Observations**\n",
        "\n",
        "* The most common emergency titles are vehicle accident, disable vehicle and road obstruction."
      ]
    },
    {
      "cell_type": "markdown",
      "metadata": {
        "id": "XsyGcrkktIc4"
      },
      "source": [
        "\n",
        "---\n",
        "\n"
      ]
    },
    {
      "cell_type": "markdown",
      "metadata": {
        "id": "lTULmPj2xn5g"
      },
      "source": [
        "#### Fire 911 Emergency Calls"
      ]
    },
    {
      "cell_type": "code",
      "execution_count": 21,
      "metadata": {
        "colab": {
          "base_uri": "https://localhost:8080/"
        },
        "id": "I6uN_uD-xmpu",
        "outputId": "8b1a5745-8322-4f6c-bece-ac5a89d85bd8"
      },
      "outputs": [
        {
          "output_type": "execute_result",
          "data": {
            "text/plain": [
              " FIRE ALARM                   153\n",
              " VEHICLE ACCIDENT              63\n",
              " GAS-ODOR/LEAK                 38\n",
              " FIRE INVESTIGATION            24\n",
              " BUILDING FIRE                 22\n",
              " CARBON MONOXIDE DETECTOR      20\n",
              " VEHICLE FIRE                  15\n",
              " ELECTRICAL FIRE OUTSIDE       13\n",
              " UNKNOWN TYPE FIRE             12\n",
              " TRASH/DUMPSTER FIRE            8\n",
              " FIRE SPECIAL SERVICE           6\n",
              " S/B AT HELICOPTER LANDING      5\n",
              " APPLIANCE FIRE                 5\n",
              " WOODS/FIELD FIRE               4\n",
              " DEBRIS/FLUIDS ON HIGHWAY       4\n",
              " RESCUE - GENERAL               3\n",
              " FIRE POLICE NEEDED             2\n",
              " RESCUE - ELEVATOR              2\n",
              " BURN VICTIM                    1\n",
              " PUMP DETAIL                    1\n",
              " TRANSFERRED CALL               1\n",
              " RESCUE - TECHNICAL             1\n",
              " VEHICLE LEAKING FUEL           1\n",
              "Name: Reason, dtype: int64"
            ]
          },
          "metadata": {},
          "execution_count": 21
        }
      ],
      "source": [
        "fire=dataset[dataset['Type']=='Fire']\n",
        "fire['Reason'].value_counts()"
      ]
    },
    {
      "cell_type": "code",
      "execution_count": 22,
      "metadata": {
        "colab": {
          "base_uri": "https://localhost:8080/",
          "height": 295
        },
        "id": "u4ziZqFpyb5-",
        "outputId": "e0f9ac3e-c257-4a14-9127-5b0da769c67d"
      },
      "outputs": [
        {
          "output_type": "display_data",
          "data": {
            "text/plain": [
              "<Figure size 720x288 with 1 Axes>"
            ],
            "image/png": "[encoded data removed]"
          },
          "metadata": {
            "needs_background": "light"
          }
        }
      ],
      "source": [
        "fig,ax=plt.subplots(figsize=(10,4))\n",
        "sns.countplot(y='Reason',data=fire,order=fire['Reason'].value_counts().head(10).index, color='darkblue')\n",
        "ax.set_xlabel('Number of calls')\n",
        "plt.title('TOP 10 FIRE 911 EMERGENCY CALLS DEPARTMENT')\n",
        "plt.show()"
      ]
    },
    {
      "cell_type": "markdown",
      "metadata": {
        "id": "zOtOb1ZBybNq"
      },
      "source": [
        "**Observation**\n",
        "\n",
        "* The most common emergency titles are fire alarm, vehicle accident and fire investigation."
      ]
    },
    {
      "cell_type": "markdown",
      "metadata": {
        "id": "UaDgI8zUtXr1"
      },
      "source": [
        "\n",
        "\n",
        "---\n",
        "\n"
      ]
    },
    {
      "cell_type": "markdown",
      "metadata": {
        "id": "mR6gcdkQzDct"
      },
      "source": [
        "#### EMS 911 Emergency Calls"
      ]
    },
    {
      "cell_type": "code",
      "execution_count": 23,
      "metadata": {
        "colab": {
          "base_uri": "https://localhost:8080/"
        },
        "id": "nTLvR2PTzSSj",
        "outputId": "de04b740-d508-4c0a-9997-7b13a169833e"
      },
      "outputs": [
        {
          "output_type": "execute_result",
          "data": {
            "text/plain": [
              " CARDIAC EMERGENCY            165\n",
              " RESPIRATORY EMERGENCY        156\n",
              " FALL VICTIM                  147\n",
              " VEHICLE ACCIDENT             139\n",
              " HEAD INJURY                   81\n",
              " SUBJECT IN PAIN               60\n",
              " UNKNOWN MEDICAL EMERGENCY     57\n",
              " SYNCOPAL EPISODE              52\n",
              " SEIZURES                      44\n",
              " ABDOMINAL PAINS               44\n",
              " GENERAL WEAKNESS              44\n",
              " ALTERED MENTAL STATUS         41\n",
              " UNCONSCIOUS SUBJECT           40\n",
              " CVA/STROKE                    37\n",
              " MEDICAL ALERT ALARM           37\n",
              " HEMORRHAGING                  36\n",
              " UNRESPONSIVE SUBJECT          35\n",
              " NAUSEA/VOMITING               32\n",
              " DIZZINESS                     31\n",
              " OVERDOSE                      30\n",
              " DIABETIC EMERGENCY            28\n",
              " BACK PAINS/INJURY             24\n",
              " ASSAULT VICTIM                18\n",
              " LACERATIONS                   15\n",
              " FEVER                         15\n",
              " ALLERGIC REACTION             13\n",
              " FRACTURE                      11\n",
              " CHOKING                        9\n",
              " BUILDING FIRE                  6\n",
              " MATERNITY                      5\n",
              " POISONING                      3\n",
              " SHOOTING                       3\n",
              " CARBON MONOXIDE DETECTOR       3\n",
              " DEHYDRATION                    3\n",
              " EMS SPECIAL SERVICE            3\n",
              " RESCUE - GENERAL               3\n",
              " RESCUE - TECHNICAL             2\n",
              " FIRE SPECIAL SERVICE           1\n",
              " WARRANT SERVICE                1\n",
              " APPLIANCE FIRE                 1\n",
              " BURN VICTIM                    1\n",
              " EYE INJURY                     1\n",
              " ELECTROCUTION                  1\n",
              " STABBING                       1\n",
              " AMPUTATION                     1\n",
              " ANIMAL BITE                    1\n",
              "Name: Reason, dtype: int64"
            ]
          },
          "metadata": {},
          "execution_count": 23
        }
      ],
      "source": [
        "EMS=dataset[dataset['Type']=='EMS']\n",
        "EMS['Reason'].value_counts()"
      ]
    },
    {
      "cell_type": "code",
      "execution_count": 24,
      "metadata": {
        "colab": {
          "base_uri": "https://localhost:8080/",
          "height": 295
        },
        "id": "r1AvHChYzmuw",
        "outputId": "fb34fca6-73ce-4340-a49c-4e4e59e99326"
      },
      "outputs": [
        {
          "output_type": "display_data",
          "data": {
            "text/plain": [
              "<Figure size 720x288 with 1 Axes>"
            ],
            "image/png": "[encoded data removed]"
          },
          "metadata": {
            "needs_background": "light"
          }
        }
      ],
      "source": [
        "fig,ax=plt.subplots(figsize=(10,4))\n",
        "sns.countplot(y='Reason',data=EMS,order=EMS['Reason'].value_counts().head(10).index, color='darkblue')\n",
        "ax.set_xlabel('Number of calls')\n",
        "plt.title('TOP 10 EMS 911 EMERGENCY CALLS DEPARTMENT')\n",
        "plt.show()"
      ]
    },
    {
      "cell_type": "markdown",
      "metadata": {
        "id": "w-dxwKAt08Lq"
      },
      "source": [
        "**Observations**\n",
        "\n",
        "* The most common emergency titles are fall victim, respiratory emergency and cardiac emergency."
      ]
    },
    {
      "cell_type": "code",
      "execution_count": 25,
      "metadata": {
        "colab": {
          "base_uri": "https://localhost:8080/",
          "height": 419
        },
        "id": "4c5PFQUu7Zvf",
        "outputId": "5aa1dec0-c961-40e5-ba28-8c5ebf52e1e7"
      },
      "outputs": [
        {
          "output_type": "display_data",
          "data": {
            "text/plain": [
              "<Figure size 1296x576 with 1 Axes>"
            ],
            "image/png": "[encoded data removed]"
          },
          "metadata": {
            "needs_background": "light"
          }
        }
      ],
      "source": [
        "fig,ax=plt.subplots(figsize=(18,8))\n",
        "sns.countplot(y='twp',data=dataset,order=dataset['twp'].value_counts().head(25).index)\n",
        "plt.title('Top 25 towns with more calls')\n",
        "plt.show()"
      ]
    },
    {
      "cell_type": "code",
      "execution_count": 59,
      "metadata": {
        "colab": {
          "base_uri": "https://localhost:8080/",
          "height": 335
        },
        "id": "F1b87luF6pMB",
        "outputId": "c9f7ecb0-c7ff-4340-ba98-dbf0868cf91d"
      },
      "outputs": [
        {
          "output_type": "stream",
          "name": "stderr",
          "text": [
            "/usr/local/lib/python3.7/dist-packages/seaborn/_decorators.py:43: FutureWarning: Pass the following variable as a keyword arg: x. From version 0.12, the only valid positional argument will be `data`, and passing other arguments without an explicit keyword will result in an error or misinterpretation.\n",
            "  FutureWarning\n"
          ]
        },
        {
          "output_type": "display_data",
          "data": {
            "text/plain": [
              "<Figure size 720x288 with 1 Axes>"
            ],
            "image/png": "[encoded data removed]"
          },
          "metadata": {
            "needs_background": "light"
          }
        }
      ],
      "source": [
        "fig,ax=plt.subplots(figsize=(10,4))\n",
        "sns.countplot('Year',data=dataset,hue='Type')\n",
        "#plt.title('Top 25 towns with more calls')\n",
        "plt.show()"
      ]
    },
    {
      "cell_type": "markdown",
      "metadata": {
        "id": "3YkYrpusyWte"
      },
      "source": [
        "**Observations**\n",
        "\n",
        "* Emergency calls are almost same throughout the year, except for year 2015 and 2020.\n",
        "* Our dataset contains data for only one month of year 2015 and only four months of year 2020. \n",
        "* So data is not available for complete year of 2015 and 2020.\n",
        "\n",
        " "
      ]
    },
    {
      "cell_type": "code",
      "execution_count": 79,
      "metadata": {
        "colab": {
          "base_uri": "https://localhost:8080/",
          "height": 851
        },
        "id": "1t15QGYbDDQS",
        "outputId": "3f26fe07-d6b3-47ae-824a-7e0af7642cd6"
      },
      "outputs": [
        {
          "output_type": "display_data",
          "data": {
            "text/plain": [
              "<Figure size 576x288 with 1 Axes>"
            ],
            "image/png": "[encoded data removed]"
          },
          "metadata": {
            "needs_background": "light"
          }
        },
        {
          "output_type": "display_data",
          "data": {
            "text/plain": [
              "<Figure size 576x288 with 1 Axes>"
            ],
            "image/png": "[encoded data removed]"
          },
          "metadata": {
            "needs_background": "light"
          }
        },
        {
          "output_type": "display_data",
          "data": {
            "text/plain": [
              "<Figure size 576x288 with 1 Axes>"
            ],
            "image/png": "[encoded data removed]"
          },
          "metadata": {
            "needs_background": "light"
          }
        }
      ],
      "source": [
        "#month\n",
        "byMonth = dataset.groupby('Month').count().sort_values(by='Month',ascending=True)\n",
        "byMonth['twp'].plot(figsize=(8, 4))\n",
        "plt.title('Count of calls per month')\n",
        "plt.show()\n",
        "#day\n",
        "byDay = dataset.groupby('Day').count().sort_values(by='Day',ascending=True)\n",
        "byDay['twp'].plot(figsize=(8, 4))\n",
        "plt.title('Count of calls per Day')\n",
        "plt.show()\n",
        "#hour\n",
        "byHour = dataset.groupby('Hour').count().sort_values(by='Hour',ascending=True)\n",
        "byHour['twp'].plot(figsize=(8, 4))\n",
        "plt.title('Count of calls per Hour')\n",
        "plt.show()"
      ]
    },
    {
      "cell_type": "markdown",
      "metadata": {
        "id": "92VaK3UT9foV"
      },
      "source": [
        "**Observation**\n",
        "* Maximum number of emergency calls happened at round 5PM.\n",
        "* Maximum number of emergency calls happened on friday and minimum on sunday.\n",
        "* Maximum emergency service required in the months of Jan,Feb, March and Dec."
      ]
    },
    {
      "cell_type": "code",
      "execution_count": 28,
      "metadata": {
        "colab": {
          "base_uri": "https://localhost:8080/",
          "height": 388
        },
        "id": "pAJFbNJ4_MFu",
        "outputId": "d2f9ad24-5df4-4b9f-f459-507a838f3755"
      },
      "outputs": [
        {
          "output_type": "display_data",
          "data": {
            "text/plain": [
              "<Figure size 864x432 with 2 Axes>"
            ],
            "image/png": "[encoded data removed]"
          },
          "metadata": {
            "needs_background": "light"
          }
        }
      ],
      "source": [
        "dayHour = dataset.groupby(['Day','Hour']).count()['Type'].unstack()\n",
        "fig,ax=plt.subplots(figsize=(12,6))\n",
        "sns.heatmap(dayHour,cmap='viridis',linewidths=.1)\n",
        "plt.show()"
      ]
    },
    {
      "cell_type": "markdown",
      "metadata": {
        "id": "8aV14q2IAc6Z"
      },
      "source": [
        "**Observation**\n",
        "* Less emergency service required at night or early morning,while more at evening time and that is even more on Friday.\n"
      ]
    },
    {
      "cell_type": "code",
      "execution_count": 29,
      "metadata": {
        "colab": {
          "base_uri": "https://localhost:8080/"
        },
        "id": "XoabhgrU_9oN",
        "outputId": "545db4d9-5b35-4690-a946-e3154d0ef982"
      },
      "outputs": [
        {
          "output_type": "execute_result",
          "data": {
            "text/plain": [
              "(0, 15)"
            ]
          },
          "metadata": {},
          "execution_count": 29
        }
      ],
      "source": [
        "latest=dataset[dataset['Year']==2020]\n",
        "\n",
        "lat_traffic=traffic[traffic['Year']==2020]\n",
        "lat_fire=fire[fire['Year']==2020]\n",
        "lat_EMS=EMS[EMS['Year']==2020]\n",
        "\n",
        "lat_fire.shape"
      ]
    },
    {
      "cell_type": "code",
      "execution_count": 30,
      "metadata": {
        "colab": {
          "base_uri": "https://localhost:8080/",
          "height": 571
        },
        "id": "CzLTqv7SANE6",
        "outputId": "c43c5f42-94bf-4ec4-8961-0709ba2ab0c7"
      },
      "outputs": [
        {
          "output_type": "execute_result",
          "data": {
            "text/plain": [
              "<folium.folium.Map at 0x7f93f62f0410>"
            ],
            "text/html": [
              "<div style=\"width:100%;\"><div style=\"position:relative;width:100%;height:0;padding-bottom:60%;\"><span style=\"color:#565656\">Make this Notebook Trusted to load map: File -> Trust Notebook</span><iframe srcdoc=\"&lt;!DOCTYPE html&gt;\n",
              "&lt;head&gt;    \n",
              "    &lt;meta http-equiv=&quot;content-type&quot; content=&quot;text/html; charset=UTF-8&quot; /&gt;\n",
              "    \n",
              "        &lt;script&gt;\n",
              "            L_NO_TOUCH = false;\n",
              "            L_DISABLE_3D = false;\n",
              "        &lt;/script&gt;\n",
              "    \n",
              "    &lt;style&gt;html, body {width: 100%;height: 100%;margin: 0;padding: 0;}&lt;/style&gt;\n",
              "    &lt;style&gt;#map {position:absolute;top:0;bottom:0;right:0;left:0;}&lt;/style&gt;\n",
              "    &lt;script src=&quot;https://cdn.jsdelivr.net/npm/leaflet@1.6.0/dist/leaflet.js&quot;&gt;&lt;/script&gt;\n",
              "    &lt;script src=&quot;https://code.jquery.com/jquery-1.12.4.min.js&quot;&gt;&lt;/script&gt;\n",
              "    &lt;script src=&quot;https://maxcdn.bootstrapcdn.com/bootstrap/3.2.0/js/bootstrap.min.js&quot;&gt;&lt;/script&gt;\n",
              "    &lt;script src=&quot;https://cdnjs.cloudflare.com/ajax/libs/Leaflet.awesome-markers/2.0.2/leaflet.awesome-markers.js&quot;&gt;&lt;/script&gt;\n",
              "    &lt;link rel=&quot;stylesheet&quot; href=&quot;https://cdn.jsdelivr.net/npm/leaflet@1.6.0/dist/leaflet.css&quot;/&gt;\n",
              "    &lt;link rel=&quot;stylesheet&quot; href=&quot;https://maxcdn.bootstrapcdn.com/bootstrap/3.2.0/css/bootstrap.min.css&quot;/&gt;\n",
              "    &lt;link rel=&quot;stylesheet&quot; href=&quot;https://maxcdn.bootstrapcdn.com/bootstrap/3.2.0/css/bootstrap-theme.min.css&quot;/&gt;\n",
              "    &lt;link rel=&quot;stylesheet&quot; href=&quot;https://maxcdn.bootstrapcdn.com/font-awesome/4.6.3/css/font-awesome.min.css&quot;/&gt;\n",
              "    &lt;link rel=&quot;stylesheet&quot; href=&quot;https://cdnjs.cloudflare.com/ajax/libs/Leaflet.awesome-markers/2.0.2/leaflet.awesome-markers.css&quot;/&gt;\n",
              "    &lt;link rel=&quot;stylesheet&quot; href=&quot;https://cdn.jsdelivr.net/gh/python-visualization/folium/folium/templates/leaflet.awesome.rotate.min.css&quot;/&gt;\n",
              "    \n",
              "            &lt;meta name=&quot;viewport&quot; content=&quot;width=device-width,\n",
              "                initial-scale=1.0, maximum-scale=1.0, user-scalable=no&quot; /&gt;\n",
              "            &lt;style&gt;\n",
              "                #map_1ab06469df6976201cb9edaef85cf2fa {\n",
              "                    position: relative;\n",
              "                    width: 100.0%;\n",
              "                    height: 100.0%;\n",
              "                    left: 0.0%;\n",
              "                    top: 0.0%;\n",
              "                }\n",
              "            &lt;/style&gt;\n",
              "        \n",
              "    &lt;script src=&quot;https://cdnjs.cloudflare.com/ajax/libs/leaflet.markercluster/1.1.0/leaflet.markercluster.js&quot;&gt;&lt;/script&gt;\n",
              "    &lt;link rel=&quot;stylesheet&quot; href=&quot;https://cdnjs.cloudflare.com/ajax/libs/leaflet.markercluster/1.1.0/MarkerCluster.css&quot;/&gt;\n",
              "    &lt;link rel=&quot;stylesheet&quot; href=&quot;https://cdnjs.cloudflare.com/ajax/libs/leaflet.markercluster/1.1.0/MarkerCluster.Default.css&quot;/&gt;\n",
              "&lt;/head&gt;\n",
              "&lt;body&gt;    \n",
              "    \n",
              "            &lt;div class=&quot;folium-map&quot; id=&quot;map_1ab06469df6976201cb9edaef85cf2fa&quot; &gt;&lt;/div&gt;\n",
              "        \n",
              "&lt;/body&gt;\n",
              "&lt;script&gt;    \n",
              "    \n",
              "            var map_1ab06469df6976201cb9edaef85cf2fa = L.map(\n",
              "                &quot;map_1ab06469df6976201cb9edaef85cf2fa&quot;,\n",
              "                {\n",
              "                    center: [7.9465, 1.0232],\n",
              "                    crs: L.CRS.EPSG3857,\n",
              "                    zoom: 7,\n",
              "                    zoomControl: true,\n",
              "                    preferCanvas: false,\n",
              "                }\n",
              "            );\n",
              "\n",
              "            \n",
              "\n",
              "        \n",
              "    \n",
              "            var tile_layer_f36a5865e53d5a231be715968d574856 = L.tileLayer(\n",
              "                &quot;https://cartodb-basemaps-{s}.global.ssl.fastly.net/light_all/{z}/{x}/{y}.png&quot;,\n",
              "                {&quot;attribution&quot;: &quot;\\u0026copy; \\u003ca href=\\&quot;http://www.openstreetmap.org/copyright\\&quot;\\u003eOpenStreetMap\\u003c/a\\u003e contributors \\u0026copy; \\u003ca href=\\&quot;http://cartodb.com/attributions\\&quot;\\u003eCartoDB\\u003c/a\\u003e, CartoDB \\u003ca href =\\&quot;http://cartodb.com/attributions\\&quot;\\u003eattributions\\u003c/a\\u003e&quot;, &quot;detectRetina&quot;: false, &quot;maxNativeZoom&quot;: 18, &quot;maxZoom&quot;: 18, &quot;minZoom&quot;: 0, &quot;noWrap&quot;: false, &quot;opacity&quot;: 1, &quot;subdomains&quot;: &quot;abc&quot;, &quot;tms&quot;: false}\n",
              "            ).addTo(map_1ab06469df6976201cb9edaef85cf2fa);\n",
              "        \n",
              "    \n",
              "            var marker_cluster_bc673414156da8296643d495d7683291 = L.markerClusterGroup(\n",
              "                {}\n",
              "            );\n",
              "            map_1ab06469df6976201cb9edaef85cf2fa.addLayer(marker_cluster_bc673414156da8296643d495d7683291);\n",
              "        \n",
              "&lt;/script&gt;\" style=\"position:absolute;width:100%;height:100%;left:0;top:0;border:none !important;\" allowfullscreen webkitallowfullscreen mozallowfullscreen></iframe></div></div>"
            ]
          },
          "metadata": {},
          "execution_count": 30
        }
      ],
      "source": [
        "m = folium.Map(location=[7.9465,1.0232], tiles='cartodbpositron', zoom_start=7)\n",
        "\n",
        "mc = MarkerCluster()\n",
        "for idx, row in lat_traffic.iterrows():\n",
        "    if not math.isnan(row['lng']) and not math.isnan(row['lat']):\n",
        "        mc.add_child(Marker([row['lat'], row['lng']]))\n",
        "m.add_child(mc)\n",
        "\n",
        "m"
      ]
    },
    {
      "cell_type": "markdown",
      "metadata": {
        "id": "cTSe-MHxQAwF"
      },
      "source": [
        "#### Dealing With Missing Values"
      ]
    },
    {
      "cell_type": "code",
      "execution_count": 31,
      "metadata": {
        "colab": {
          "base_uri": "https://localhost:8080/",
          "height": 363
        },
        "id": "yvhWK0Q5AATA",
        "outputId": "ed771d4b-4a9f-49f7-95a0-1f8c787565b7"
      },
      "outputs": [
        {
          "output_type": "execute_result",
          "data": {
            "text/plain": [
              "              Total   Percent\n",
              "station_code   3031  0.999341\n",
              "twp             643  0.212001\n",
              "zip              10  0.003297\n",
              "addr              1  0.000330\n",
              "lat               0  0.000000\n",
              "lng               0  0.000000\n",
              "title             0  0.000000\n",
              "timeStamp         0  0.000000\n",
              "Hour              0  0.000000\n",
              "Day               0  0.000000"
            ],
            "text/html": [
              "\n",
              "  <div id=\"df-2eda1649-2e76-4bd6-830f-c2c9a42da228\">\n",
              "    <div class=\"colab-df-container\">\n",
              "      <div>\n",
              "<style scoped>\n",
              "    .dataframe tbody tr th:only-of-type {\n",
              "        vertical-align: middle;\n",
              "    }\n",
              "\n",
              "    .dataframe tbody tr th {\n",
              "        vertical-align: top;\n",
              "    }\n",
              "\n",
              "    .dataframe thead th {\n",
              "        text-align: right;\n",
              "    }\n",
              "</style>\n",
              "<table border=\"1\" class=\"dataframe\">\n",
              "  <thead>\n",
              "    <tr style=\"text-align: right;\">\n",
              "      <th></th>\n",
              "      <th>Total</th>\n",
              "      <th>Percent</th>\n",
              "    </tr>\n",
              "  </thead>\n",
              "  <tbody>\n",
              "    <tr>\n",
              "      <th>station_code</th>\n",
              "      <td>3031</td>\n",
              "      <td>0.999341</td>\n",
              "    </tr>\n",
              "    <tr>\n",
              "      <th>twp</th>\n",
              "      <td>643</td>\n",
              "      <td>0.212001</td>\n",
              "    </tr>\n",
              "    <tr>\n",
              "      <th>zip</th>\n",
              "      <td>10</td>\n",
              "      <td>0.003297</td>\n",
              "    </tr>\n",
              "    <tr>\n",
              "      <th>addr</th>\n",
              "      <td>1</td>\n",
              "      <td>0.000330</td>\n",
              "    </tr>\n",
              "    <tr>\n",
              "      <th>lat</th>\n",
              "      <td>0</td>\n",
              "      <td>0.000000</td>\n",
              "    </tr>\n",
              "    <tr>\n",
              "      <th>lng</th>\n",
              "      <td>0</td>\n",
              "      <td>0.000000</td>\n",
              "    </tr>\n",
              "    <tr>\n",
              "      <th>title</th>\n",
              "      <td>0</td>\n",
              "      <td>0.000000</td>\n",
              "    </tr>\n",
              "    <tr>\n",
              "      <th>timeStamp</th>\n",
              "      <td>0</td>\n",
              "      <td>0.000000</td>\n",
              "    </tr>\n",
              "    <tr>\n",
              "      <th>Hour</th>\n",
              "      <td>0</td>\n",
              "      <td>0.000000</td>\n",
              "    </tr>\n",
              "    <tr>\n",
              "      <th>Day</th>\n",
              "      <td>0</td>\n",
              "      <td>0.000000</td>\n",
              "    </tr>\n",
              "  </tbody>\n",
              "</table>\n",
              "</div>\n",
              "      <button class=\"colab-df-convert\" onclick=\"convertToInteractive('df-2eda1649-2e76-4bd6-830f-c2c9a42da228')\"\n",
              "              title=\"Convert this dataframe to an interactive table.\"\n",
              "              style=\"display:none;\">\n",
              "        \n",
              "  <svg xmlns=\"http://www.w3.org/2000/svg\" height=\"24px\"viewBox=\"0 0 24 24\"\n",
              "       width=\"24px\">\n",
              "    <path d=\"M0 0h24v24H0V0z\" fill=\"none\"/>\n",
              "    <path d=\"M18.56 5.44l.94 2.06.94-2.06 2.06-.94-2.06-.94-.94-2.06-.94 2.06-2.06.94zm-11 1L8.5 8.5l.94-2.06 2.06-.94-2.06-.94L8.5 2.5l-.94 2.06-2.06.94zm10 10l.94 2.06.94-2.06 2.06-.94-2.06-.94-.94-2.06-.94 2.06-2.06.94z\"/><path d=\"M17.41 7.96l-1.37-1.37c-.4-.4-.92-.59-1.43-.59-.52 0-1.04.2-1.43.59L10.3 9.45l-7.72 7.72c-.78.78-.78 2.05 0 2.83L4 21.41c.39.39.9.59 1.41.59.51 0 1.02-.2 1.41-.59l7.78-7.78 2.81-2.81c.8-.78.8-2.07 0-2.86zM5.41 20L4 18.59l7.72-7.72 1.47 1.35L5.41 20z\"/>\n",
              "  </svg>\n",
              "      </button>\n",
              "      \n",
              "  <style>\n",
              "    .colab-df-container {\n",
              "      display:flex;\n",
              "      flex-wrap:wrap;\n",
              "      gap: 12px;\n",
              "    }\n",
              "\n",
              "    .colab-df-convert {\n",
              "      background-color: #E8F0FE;\n",
              "      border: none;\n",
              "      border-radius: 50%;\n",
              "      cursor: pointer;\n",
              "      display: none;\n",
              "      fill: #1967D2;\n",
              "      height: 32px;\n",
              "      padding: 0 0 0 0;\n",
              "      width: 32px;\n",
              "    }\n",
              "\n",
              "    .colab-df-convert:hover {\n",
              "      background-color: #E2EBFA;\n",
              "      box-shadow: 0px 1px 2px rgba(60, 64, 67, 0.3), 0px 1px 3px 1px rgba(60, 64, 67, 0.15);\n",
              "      fill: #174EA6;\n",
              "    }\n",
              "\n",
              "    [theme=dark] .colab-df-convert {\n",
              "      background-color: #3B4455;\n",
              "      fill: #D2E3FC;\n",
              "    }\n",
              "\n",
              "    [theme=dark] .colab-df-convert:hover {\n",
              "      background-color: #434B5C;\n",
              "      box-shadow: 0px 1px 3px 1px rgba(0, 0, 0, 0.15);\n",
              "      filter: drop-shadow(0px 1px 2px rgba(0, 0, 0, 0.3));\n",
              "      fill: #FFFFFF;\n",
              "    }\n",
              "  </style>\n",
              "\n",
              "      <script>\n",
              "        const buttonEl =\n",
              "          document.querySelector('#df-2eda1649-2e76-4bd6-830f-c2c9a42da228 button.colab-df-convert');\n",
              "        buttonEl.style.display =\n",
              "          google.colab.kernel.accessAllowed ? 'block' : 'none';\n",
              "\n",
              "        async function convertToInteractive(key) {\n",
              "          const element = document.querySelector('#df-2eda1649-2e76-4bd6-830f-c2c9a42da228');\n",
              "          const dataTable =\n",
              "            await google.colab.kernel.invokeFunction('convertToInteractive',\n",
              "                                                     [key], {});\n",
              "          if (!dataTable) return;\n",
              "\n",
              "          const docLinkHtml = 'Like what you see? Visit the ' +\n",
              "            '<a target=\"_blank\" href=https://colab.research.google.com/notebooks/data_table.ipynb>data table notebook</a>'\n",
              "            + ' to learn more about interactive tables.';\n",
              "          element.innerHTML = '';\n",
              "          dataTable['output_type'] = 'display_data';\n",
              "          await google.colab.output.renderOutput(dataTable, element);\n",
              "          const docLink = document.createElement('div');\n",
              "          docLink.innerHTML = docLinkHtml;\n",
              "          element.appendChild(docLink);\n",
              "        }\n",
              "      </script>\n",
              "    </div>\n",
              "  </div>\n",
              "  "
            ]
          },
          "metadata": {},
          "execution_count": 31
        }
      ],
      "source": [
        "total=dataset.isnull().sum().sort_values(ascending=False)\n",
        "percent=(dataset.isnull().sum()/dataset.isnull().count()).sort_values(ascending=False)\n",
        "missing_data = pd.concat([total, percent], axis=1, keys=['Total', 'Percent'])\n",
        "missing_data.head(10)"
      ]
    },
    {
      "cell_type": "code",
      "execution_count": 32,
      "metadata": {
        "id": "FGGw6AbbABiA"
      },
      "outputs": [],
      "source": [
        "dataset.dropna(subset=['twp'],inplace=True)"
      ]
    },
    {
      "cell_type": "code",
      "execution_count": 33,
      "metadata": {
        "id": "74yEQUZKQs8m"
      },
      "outputs": [],
      "source": [
        "dataset.dropna(subset=['zip'],inplace=True)"
      ]
    },
    {
      "cell_type": "code",
      "execution_count": 34,
      "metadata": {
        "colab": {
          "base_uri": "https://localhost:8080/",
          "height": 363
        },
        "id": "2naUyosiQtDc",
        "outputId": "8ae6eca0-9291-43f3-d383-5862498d3d3d"
      },
      "outputs": [
        {
          "output_type": "execute_result",
          "data": {
            "text/plain": [
              "              Total  Percent\n",
              "station_code   2381  1.00000\n",
              "addr              1  0.00042\n",
              "lat               0  0.00000\n",
              "lng               0  0.00000\n",
              "zip               0  0.00000\n",
              "title             0  0.00000\n",
              "timeStamp         0  0.00000\n",
              "twp               0  0.00000\n",
              "Hour              0  0.00000\n",
              "Day               0  0.00000"
            ],
            "text/html": [
              "\n",
              "  <div id=\"df-e631e218-b0c7-4b07-866c-f17b24bf2fb7\">\n",
              "    <div class=\"colab-df-container\">\n",
              "      <div>\n",
              "<style scoped>\n",
              "    .dataframe tbody tr th:only-of-type {\n",
              "        vertical-align: middle;\n",
              "    }\n",
              "\n",
              "    .dataframe tbody tr th {\n",
              "        vertical-align: top;\n",
              "    }\n",
              "\n",
              "    .dataframe thead th {\n",
              "        text-align: right;\n",
              "    }\n",
              "</style>\n",
              "<table border=\"1\" class=\"dataframe\">\n",
              "  <thead>\n",
              "    <tr style=\"text-align: right;\">\n",
              "      <th></th>\n",
              "      <th>Total</th>\n",
              "      <th>Percent</th>\n",
              "    </tr>\n",
              "  </thead>\n",
              "  <tbody>\n",
              "    <tr>\n",
              "      <th>station_code</th>\n",
              "      <td>2381</td>\n",
              "      <td>1.00000</td>\n",
              "    </tr>\n",
              "    <tr>\n",
              "      <th>addr</th>\n",
              "      <td>1</td>\n",
              "      <td>0.00042</td>\n",
              "    </tr>\n",
              "    <tr>\n",
              "      <th>lat</th>\n",
              "      <td>0</td>\n",
              "      <td>0.00000</td>\n",
              "    </tr>\n",
              "    <tr>\n",
              "      <th>lng</th>\n",
              "      <td>0</td>\n",
              "      <td>0.00000</td>\n",
              "    </tr>\n",
              "    <tr>\n",
              "      <th>zip</th>\n",
              "      <td>0</td>\n",
              "      <td>0.00000</td>\n",
              "    </tr>\n",
              "    <tr>\n",
              "      <th>title</th>\n",
              "      <td>0</td>\n",
              "      <td>0.00000</td>\n",
              "    </tr>\n",
              "    <tr>\n",
              "      <th>timeStamp</th>\n",
              "      <td>0</td>\n",
              "      <td>0.00000</td>\n",
              "    </tr>\n",
              "    <tr>\n",
              "      <th>twp</th>\n",
              "      <td>0</td>\n",
              "      <td>0.00000</td>\n",
              "    </tr>\n",
              "    <tr>\n",
              "      <th>Hour</th>\n",
              "      <td>0</td>\n",
              "      <td>0.00000</td>\n",
              "    </tr>\n",
              "    <tr>\n",
              "      <th>Day</th>\n",
              "      <td>0</td>\n",
              "      <td>0.00000</td>\n",
              "    </tr>\n",
              "  </tbody>\n",
              "</table>\n",
              "</div>\n",
              "      <button class=\"colab-df-convert\" onclick=\"convertToInteractive('df-e631e218-b0c7-4b07-866c-f17b24bf2fb7')\"\n",
              "              title=\"Convert this dataframe to an interactive table.\"\n",
              "              style=\"display:none;\">\n",
              "        \n",
              "  <svg xmlns=\"http://www.w3.org/2000/svg\" height=\"24px\"viewBox=\"0 0 24 24\"\n",
              "       width=\"24px\">\n",
              "    <path d=\"M0 0h24v24H0V0z\" fill=\"none\"/>\n",
              "    <path d=\"M18.56 5.44l.94 2.06.94-2.06 2.06-.94-2.06-.94-.94-2.06-.94 2.06-2.06.94zm-11 1L8.5 8.5l.94-2.06 2.06-.94-2.06-.94L8.5 2.5l-.94 2.06-2.06.94zm10 10l.94 2.06.94-2.06 2.06-.94-2.06-.94-.94-2.06-.94 2.06-2.06.94z\"/><path d=\"M17.41 7.96l-1.37-1.37c-.4-.4-.92-.59-1.43-.59-.52 0-1.04.2-1.43.59L10.3 9.45l-7.72 7.72c-.78.78-.78 2.05 0 2.83L4 21.41c.39.39.9.59 1.41.59.51 0 1.02-.2 1.41-.59l7.78-7.78 2.81-2.81c.8-.78.8-2.07 0-2.86zM5.41 20L4 18.59l7.72-7.72 1.47 1.35L5.41 20z\"/>\n",
              "  </svg>\n",
              "      </button>\n",
              "      \n",
              "  <style>\n",
              "    .colab-df-container {\n",
              "      display:flex;\n",
              "      flex-wrap:wrap;\n",
              "      gap: 12px;\n",
              "    }\n",
              "\n",
              "    .colab-df-convert {\n",
              "      background-color: #E8F0FE;\n",
              "      border: none;\n",
              "      border-radius: 50%;\n",
              "      cursor: pointer;\n",
              "      display: none;\n",
              "      fill: #1967D2;\n",
              "      height: 32px;\n",
              "      padding: 0 0 0 0;\n",
              "      width: 32px;\n",
              "    }\n",
              "\n",
              "    .colab-df-convert:hover {\n",
              "      background-color: #E2EBFA;\n",
              "      box-shadow: 0px 1px 2px rgba(60, 64, 67, 0.3), 0px 1px 3px 1px rgba(60, 64, 67, 0.15);\n",
              "      fill: #174EA6;\n",
              "    }\n",
              "\n",
              "    [theme=dark] .colab-df-convert {\n",
              "      background-color: #3B4455;\n",
              "      fill: #D2E3FC;\n",
              "    }\n",
              "\n",
              "    [theme=dark] .colab-df-convert:hover {\n",
              "      background-color: #434B5C;\n",
              "      box-shadow: 0px 1px 3px 1px rgba(0, 0, 0, 0.15);\n",
              "      filter: drop-shadow(0px 1px 2px rgba(0, 0, 0, 0.3));\n",
              "      fill: #FFFFFF;\n",
              "    }\n",
              "  </style>\n",
              "\n",
              "      <script>\n",
              "        const buttonEl =\n",
              "          document.querySelector('#df-e631e218-b0c7-4b07-866c-f17b24bf2fb7 button.colab-df-convert');\n",
              "        buttonEl.style.display =\n",
              "          google.colab.kernel.accessAllowed ? 'block' : 'none';\n",
              "\n",
              "        async function convertToInteractive(key) {\n",
              "          const element = document.querySelector('#df-e631e218-b0c7-4b07-866c-f17b24bf2fb7');\n",
              "          const dataTable =\n",
              "            await google.colab.kernel.invokeFunction('convertToInteractive',\n",
              "                                                     [key], {});\n",
              "          if (!dataTable) return;\n",
              "\n",
              "          const docLinkHtml = 'Like what you see? Visit the ' +\n",
              "            '<a target=\"_blank\" href=https://colab.research.google.com/notebooks/data_table.ipynb>data table notebook</a>'\n",
              "            + ' to learn more about interactive tables.';\n",
              "          element.innerHTML = '';\n",
              "          dataTable['output_type'] = 'display_data';\n",
              "          await google.colab.output.renderOutput(dataTable, element);\n",
              "          const docLink = document.createElement('div');\n",
              "          docLink.innerHTML = docLinkHtml;\n",
              "          element.appendChild(docLink);\n",
              "        }\n",
              "      </script>\n",
              "    </div>\n",
              "  </div>\n",
              "  "
            ]
          },
          "metadata": {},
          "execution_count": 34
        }
      ],
      "source": [
        "total=dataset.isnull().sum().sort_values(ascending=False)\n",
        "percent=(dataset.isnull().sum()/dataset.isnull().count()).sort_values(ascending=False)\n",
        "missing_data = pd.concat([total, percent], axis=1, keys=['Total', 'Percent'])\n",
        "missing_data.head(10)"
      ]
    },
    {
      "cell_type": "markdown",
      "metadata": {
        "id": "4oUYcmWQcxAq"
      },
      "source": [
        "# Treating Outliers"
      ]
    },
    {
      "cell_type": "code",
      "execution_count": 35,
      "metadata": {
        "colab": {
          "base_uri": "https://localhost:8080/",
          "height": 279
        },
        "id": "WhOgDbomcwQx",
        "outputId": "96827e41-248e-405c-c669-2ad7b0d4eb59"
      },
      "outputs": [
        {
          "output_type": "display_data",
          "data": {
            "text/plain": [
              "<Figure size 576x288 with 1 Axes>"
            ],
            "image/png": "[encoded data removed]"
          },
          "metadata": {
            "needs_background": "light"
          }
        }
      ],
      "source": [
        "fig,ax = plt.subplots(figsize=(8,4))\n",
        "sns.scatterplot(x='lat',y='lng',data=dataset, alpha=0.3)\n",
        "plt.show()"
      ]
    },
    {
      "cell_type": "markdown",
      "metadata": {
        "id": "S7EoZBQGfhhn"
      },
      "source": [
        "Apparently there are some outliers. Let's use boxplot to do this analysis."
      ]
    },
    {
      "cell_type": "code",
      "execution_count": 36,
      "metadata": {
        "colab": {
          "base_uri": "https://localhost:8080/",
          "height": 279
        },
        "id": "yeOfy-Ttfn83",
        "outputId": "40915401-3bad-4d1d-fd17-7d6aa61c40dc"
      },
      "outputs": [
        {
          "output_type": "display_data",
          "data": {
            "text/plain": [
              "<Figure size 576x288 with 1 Axes>"
            ],
            "image/png": "[encoded data removed]"
          },
          "metadata": {
            "needs_background": "light"
          }
        }
      ],
      "source": [
        "#Analysing Latitude\n",
        "fig,ax = plt.subplots(figsize=(8,4))\n",
        "sns.boxplot(x=dataset['lat'])\n",
        "plt.show()"
      ]
    },
    {
      "cell_type": "code",
      "execution_count": 37,
      "metadata": {
        "id": "jAYcLuxmgcAc"
      },
      "outputs": [],
      "source": [
        "Q1=dataset['lat'].quantile(.25)\n",
        "Q3=dataset['lat'].quantile(.75)\n",
        "IQR=Q3-Q1\n",
        "Lower_Whisker=Q1-1.5*IQR\n",
        "Upper_Whisker = Q3+1.5*IQR\n",
        "\n",
        "dataset_treated=dataset[(dataset['lat']<Upper_Whisker)&(dataset['lat']>Lower_Whisker)]"
      ]
    },
    {
      "cell_type": "code",
      "execution_count": 38,
      "metadata": {
        "colab": {
          "base_uri": "https://localhost:8080/",
          "height": 281
        },
        "id": "sEFCiW3whPvH",
        "outputId": "9e243603-d01b-482f-bdf5-b3f7b86fcfe4"
      },
      "outputs": [
        {
          "output_type": "display_data",
          "data": {
            "text/plain": [
              "<Figure size 720x288 with 2 Axes>"
            ],
            "image/png": "[encoded data removed]"
          },
          "metadata": {
            "needs_background": "light"
          }
        }
      ],
      "source": [
        "fig,ax = plt.subplots(1,2,figsize=(10,4))\n",
        "sns.scatterplot(x=dataset_treated['lat'],y=dataset_treated['lng'],data=dataset,ax=ax[0])\n",
        "sns.boxplot(x=dataset_treated['lat'],ax=ax[1])\n",
        "plt.show()"
      ]
    },
    {
      "cell_type": "code",
      "execution_count": 39,
      "metadata": {
        "colab": {
          "base_uri": "https://localhost:8080/",
          "height": 296
        },
        "id": "Pgo0_9Dphe38",
        "outputId": "9bd17868-6835-4501-86e8-61e6897d540a"
      },
      "outputs": [
        {
          "output_type": "execute_result",
          "data": {
            "text/plain": [
              "<matplotlib.axes._subplots.AxesSubplot at 0x7f93f9cc0990>"
            ]
          },
          "metadata": {},
          "execution_count": 39
        },
        {
          "output_type": "display_data",
          "data": {
            "text/plain": [
              "<Figure size 432x288 with 1 Axes>"
            ],
            "image/png": "[encoded data removed]"
          },
          "metadata": {
            "needs_background": "light"
          }
        }
      ],
      "source": [
        "sns.boxplot(x=dataset_treated['lng'])"
      ]
    },
    {
      "cell_type": "code",
      "execution_count": 40,
      "metadata": {
        "id": "CW2FdaJAi6Ya"
      },
      "outputs": [],
      "source": [
        "Q1=dataset_treated['lng'].quantile(.25)\n",
        "Q3=dataset_treated['lng'].quantile(.75)\n",
        "IQR=Q3-Q1\n",
        "Lower_Whisker=Q1-1.5*IQR\n",
        "Upper_Whisker = Q3+1.5*IQR\n",
        "dataset_treated=dataset_treated[(dataset_treated['lng']<Upper_Whisker)&(dataset_treated['lng']>Lower_Whisker)]"
      ]
    },
    {
      "cell_type": "code",
      "execution_count": 41,
      "metadata": {
        "colab": {
          "base_uri": "https://localhost:8080/",
          "height": 296
        },
        "id": "heGLMG3YkHqs",
        "outputId": "5aea4a96-dfb7-4364-9a61-1c00a58c275c"
      },
      "outputs": [
        {
          "output_type": "execute_result",
          "data": {
            "text/plain": [
              "<matplotlib.axes._subplots.AxesSubplot at 0x7f93f603ee50>"
            ]
          },
          "metadata": {},
          "execution_count": 41
        },
        {
          "output_type": "display_data",
          "data": {
            "text/plain": [
              "<Figure size 432x288 with 1 Axes>"
            ],
            "image/png": "[encoded data removed]"
          },
          "metadata": {
            "needs_background": "light"
          }
        }
      ],
      "source": [
        "sns.scatterplot(x=dataset_treated['lat'],y=dataset_treated['lng'],data=dataset)"
      ]
    },
    {
      "cell_type": "code",
      "execution_count": 42,
      "metadata": {
        "colab": {
          "base_uri": "https://localhost:8080/"
        },
        "id": "JrKlZ6rEkjFr",
        "outputId": "d50321d8-ded9-492a-c9c6-fc443a821e4c"
      },
      "outputs": [
        {
          "output_type": "execute_result",
          "data": {
            "text/plain": [
              "(2206, 15)"
            ]
          },
          "metadata": {},
          "execution_count": 42
        }
      ],
      "source": [
        "dataset_treated.shape"
      ]
    },
    {
      "cell_type": "markdown",
      "metadata": {
        "id": "e0P4WsUVaRpy"
      },
      "source": [
        "\n",
        "# **Association Rule Mining**\n",
        "---\n",
        "\n",
        "\n",
        "\n",
        "\n"
      ]
    },
    {
      "cell_type": "markdown",
      "metadata": {
        "id": "tGZflUwoD-uJ"
      },
      "source": [
        "## **Preprocess Data for the** **Algorithm**"
      ]
    },
    {
      "cell_type": "code",
      "execution_count": 43,
      "metadata": {
        "id": "uogc18dyirgT"
      },
      "outputs": [],
      "source": [
        "df=dataset_treated.drop(['station_code'], axis=1)"
      ]
    },
    {
      "cell_type": "code",
      "execution_count": 44,
      "metadata": {
        "colab": {
          "base_uri": "https://localhost:8080/"
        },
        "id": "YPzIKLC-8Fs2",
        "outputId": "7acf3487-6ce0-469f-dce1-b30661f3a0d7"
      },
      "outputs": [
        {
          "output_type": "stream",
          "name": "stdout",
          "text": [
            "70\n"
          ]
        }
      ],
      "source": [
        "title_low=df[\"title\"].value_counts()\n",
        "sum=0\n",
        "others=[]\n",
        "for i in title_low.index:\n",
        "    if(title_low[i]<=1000):\n",
        "        sum=sum+title_low[i]\n",
        "        others.append(i)\n",
        "print(len(others))\n",
        "\n",
        "def convert(x):\n",
        "    if x in others:\n",
        "        return \"Others\"\n",
        "    else:\n",
        "        return x\n",
        "df.title = df.title.map(convert)"
      ]
    },
    {
      "cell_type": "code",
      "execution_count": 45,
      "metadata": {
        "colab": {
          "base_uri": "https://localhost:8080/",
          "height": 441
        },
        "id": "b8YxhutADm1e",
        "outputId": "e8f5be75-a866-4398-af81-79bd0a24a995"
      },
      "outputs": [
        {
          "output_type": "execute_result",
          "data": {
            "text/plain": [
              "        lat       lng    zip           timeStamp     twp  \\\n",
              "0  5.635828 -0.161359  233.0 2015-11-10 15:20:00   Accra   \n",
              "1  5.644369 -0.185427  233.0 2015-11-10 17:35:00   Accra   \n",
              "2  5.633940 -0.174082  233.0 2015-11-10 14:39:00   Accra   \n",
              "3  5.651038 -0.135459  233.0 2015-11-10 16:47:00  Madina   \n",
              "4  5.652202 -0.188107  233.0 2015-11-10 16:56:00   Accra   \n",
              "\n",
              "                                    addr  Hour  Day     Month  Year  \\\n",
              "0                             east legon    15  Tue  November  2015   \n",
              "1                         vikings hostel    17  Tue  November  2015   \n",
              "2                               shiashie    14  Tue  November  2015   \n",
              "3                           adjiringanor    16  Tue  November  2015   \n",
              "4  university of ghana computing systems    16  Tue  November  2015   \n",
              "\n",
              "         Date  Type               Reason  Others  \n",
              "0  2015-11-10   EMS    BACK PAINS/INJURY       1  \n",
              "1  2015-11-10   EMS   DIABETIC EMERGENCY       1  \n",
              "2  2015-11-10  Fire        GAS-ODOR/LEAK       1  \n",
              "3  2015-11-10   EMS    CARDIAC EMERGENCY       1  \n",
              "4  2015-11-10   EMS            DIZZINESS       1  "
            ],
            "text/html": [
              "\n",
              "  <div id=\"df-ac4b8aa0-9a89-4eb3-8401-266c1cd9f957\">\n",
              "    <div class=\"colab-df-container\">\n",
              "      <div>\n",
              "<style scoped>\n",
              "    .dataframe tbody tr th:only-of-type {\n",
              "        vertical-align: middle;\n",
              "    }\n",
              "\n",
              "    .dataframe tbody tr th {\n",
              "        vertical-align: top;\n",
              "    }\n",
              "\n",
              "    .dataframe thead th {\n",
              "        text-align: right;\n",
              "    }\n",
              "</style>\n",
              "<table border=\"1\" class=\"dataframe\">\n",
              "  <thead>\n",
              "    <tr style=\"text-align: right;\">\n",
              "      <th></th>\n",
              "      <th>lat</th>\n",
              "      <th>lng</th>\n",
              "      <th>zip</th>\n",
              "      <th>timeStamp</th>\n",
              "      <th>twp</th>\n",
              "      <th>addr</th>\n",
              "      <th>Hour</th>\n",
              "      <th>Day</th>\n",
              "      <th>Month</th>\n",
              "      <th>Year</th>\n",
              "      <th>Date</th>\n",
              "      <th>Type</th>\n",
              "      <th>Reason</th>\n",
              "      <th>Others</th>\n",
              "    </tr>\n",
              "  </thead>\n",
              "  <tbody>\n",
              "    <tr>\n",
              "      <th>0</th>\n",
              "      <td>5.635828</td>\n",
              "      <td>-0.161359</td>\n",
              "      <td>233.0</td>\n",
              "      <td>2015-11-10 15:20:00</td>\n",
              "      <td>Accra</td>\n",
              "      <td>east legon</td>\n",
              "      <td>15</td>\n",
              "      <td>Tue</td>\n",
              "      <td>November</td>\n",
              "      <td>2015</td>\n",
              "      <td>2015-11-10</td>\n",
              "      <td>EMS</td>\n",
              "      <td>BACK PAINS/INJURY</td>\n",
              "      <td>1</td>\n",
              "    </tr>\n",
              "    <tr>\n",
              "      <th>1</th>\n",
              "      <td>5.644369</td>\n",
              "      <td>-0.185427</td>\n",
              "      <td>233.0</td>\n",
              "      <td>2015-11-10 17:35:00</td>\n",
              "      <td>Accra</td>\n",
              "      <td>vikings hostel</td>\n",
              "      <td>17</td>\n",
              "      <td>Tue</td>\n",
              "      <td>November</td>\n",
              "      <td>2015</td>\n",
              "      <td>2015-11-10</td>\n",
              "      <td>EMS</td>\n",
              "      <td>DIABETIC EMERGENCY</td>\n",
              "      <td>1</td>\n",
              "    </tr>\n",
              "    <tr>\n",
              "      <th>2</th>\n",
              "      <td>5.633940</td>\n",
              "      <td>-0.174082</td>\n",
              "      <td>233.0</td>\n",
              "      <td>2015-11-10 14:39:00</td>\n",
              "      <td>Accra</td>\n",
              "      <td>shiashie</td>\n",
              "      <td>14</td>\n",
              "      <td>Tue</td>\n",
              "      <td>November</td>\n",
              "      <td>2015</td>\n",
              "      <td>2015-11-10</td>\n",
              "      <td>Fire</td>\n",
              "      <td>GAS-ODOR/LEAK</td>\n",
              "      <td>1</td>\n",
              "    </tr>\n",
              "    <tr>\n",
              "      <th>3</th>\n",
              "      <td>5.651038</td>\n",
              "      <td>-0.135459</td>\n",
              "      <td>233.0</td>\n",
              "      <td>2015-11-10 16:47:00</td>\n",
              "      <td>Madina</td>\n",
              "      <td>adjiringanor</td>\n",
              "      <td>16</td>\n",
              "      <td>Tue</td>\n",
              "      <td>November</td>\n",
              "      <td>2015</td>\n",
              "      <td>2015-11-10</td>\n",
              "      <td>EMS</td>\n",
              "      <td>CARDIAC EMERGENCY</td>\n",
              "      <td>1</td>\n",
              "    </tr>\n",
              "    <tr>\n",
              "      <th>4</th>\n",
              "      <td>5.652202</td>\n",
              "      <td>-0.188107</td>\n",
              "      <td>233.0</td>\n",
              "      <td>2015-11-10 16:56:00</td>\n",
              "      <td>Accra</td>\n",
              "      <td>university of ghana computing systems</td>\n",
              "      <td>16</td>\n",
              "      <td>Tue</td>\n",
              "      <td>November</td>\n",
              "      <td>2015</td>\n",
              "      <td>2015-11-10</td>\n",
              "      <td>EMS</td>\n",
              "      <td>DIZZINESS</td>\n",
              "      <td>1</td>\n",
              "    </tr>\n",
              "  </tbody>\n",
              "</table>\n",
              "</div>\n",
              "      <button class=\"colab-df-convert\" onclick=\"convertToInteractive('df-ac4b8aa0-9a89-4eb3-8401-266c1cd9f957')\"\n",
              "              title=\"Convert this dataframe to an interactive table.\"\n",
              "              style=\"display:none;\">\n",
              "        \n",
              "  <svg xmlns=\"http://www.w3.org/2000/svg\" height=\"24px\"viewBox=\"0 0 24 24\"\n",
              "       width=\"24px\">\n",
              "    <path d=\"M0 0h24v24H0V0z\" fill=\"none\"/>\n",
              "    <path d=\"M18.56 5.44l.94 2.06.94-2.06 2.06-.94-2.06-.94-.94-2.06-.94 2.06-2.06.94zm-11 1L8.5 8.5l.94-2.06 2.06-.94-2.06-.94L8.5 2.5l-.94 2.06-2.06.94zm10 10l.94 2.06.94-2.06 2.06-.94-2.06-.94-.94-2.06-.94 2.06-2.06.94z\"/><path d=\"M17.41 7.96l-1.37-1.37c-.4-.4-.92-.59-1.43-.59-.52 0-1.04.2-1.43.59L10.3 9.45l-7.72 7.72c-.78.78-.78 2.05 0 2.83L4 21.41c.39.39.9.59 1.41.59.51 0 1.02-.2 1.41-.59l7.78-7.78 2.81-2.81c.8-.78.8-2.07 0-2.86zM5.41 20L4 18.59l7.72-7.72 1.47 1.35L5.41 20z\"/>\n",
              "  </svg>\n",
              "      </button>\n",
              "      \n",
              "  <style>\n",
              "    .colab-df-container {\n",
              "      display:flex;\n",
              "      flex-wrap:wrap;\n",
              "      gap: 12px;\n",
              "    }\n",
              "\n",
              "    .colab-df-convert {\n",
              "      background-color: #E8F0FE;\n",
              "      border: none;\n",
              "      border-radius: 50%;\n",
              "      cursor: pointer;\n",
              "      display: none;\n",
              "      fill: #1967D2;\n",
              "      height: 32px;\n",
              "      padding: 0 0 0 0;\n",
              "      width: 32px;\n",
              "    }\n",
              "\n",
              "    .colab-df-convert:hover {\n",
              "      background-color: #E2EBFA;\n",
              "      box-shadow: 0px 1px 2px rgba(60, 64, 67, 0.3), 0px 1px 3px 1px rgba(60, 64, 67, 0.15);\n",
              "      fill: #174EA6;\n",
              "    }\n",
              "\n",
              "    [theme=dark] .colab-df-convert {\n",
              "      background-color: #3B4455;\n",
              "      fill: #D2E3FC;\n",
              "    }\n",
              "\n",
              "    [theme=dark] .colab-df-convert:hover {\n",
              "      background-color: #434B5C;\n",
              "      box-shadow: 0px 1px 3px 1px rgba(0, 0, 0, 0.15);\n",
              "      filter: drop-shadow(0px 1px 2px rgba(0, 0, 0, 0.3));\n",
              "      fill: #FFFFFF;\n",
              "    }\n",
              "  </style>\n",
              "\n",
              "      <script>\n",
              "        const buttonEl =\n",
              "          document.querySelector('#df-ac4b8aa0-9a89-4eb3-8401-266c1cd9f957 button.colab-df-convert');\n",
              "        buttonEl.style.display =\n",
              "          google.colab.kernel.accessAllowed ? 'block' : 'none';\n",
              "\n",
              "        async function convertToInteractive(key) {\n",
              "          const element = document.querySelector('#df-ac4b8aa0-9a89-4eb3-8401-266c1cd9f957');\n",
              "          const dataTable =\n",
              "            await google.colab.kernel.invokeFunction('convertToInteractive',\n",
              "                                                     [key], {});\n",
              "          if (!dataTable) return;\n",
              "\n",
              "          const docLinkHtml = 'Like what you see? Visit the ' +\n",
              "            '<a target=\"_blank\" href=https://colab.research.google.com/notebooks/data_table.ipynb>data table notebook</a>'\n",
              "            + ' to learn more about interactive tables.';\n",
              "          element.innerHTML = '';\n",
              "          dataTable['output_type'] = 'display_data';\n",
              "          await google.colab.output.renderOutput(dataTable, element);\n",
              "          const docLink = document.createElement('div');\n",
              "          docLink.innerHTML = docLinkHtml;\n",
              "          element.appendChild(docLink);\n",
              "        }\n",
              "      </script>\n",
              "    </div>\n",
              "  </div>\n",
              "  "
            ]
          },
          "metadata": {},
          "execution_count": 45
        }
      ],
      "source": [
        "titles=df['title'].unique().tolist()\n",
        "one_hot = pd.get_dummies(df['title'])\n",
        "df.drop('title', inplace=True, axis=1)\n",
        "df = df.join(one_hot)\n",
        "df.head()"
      ]
    },
    {
      "cell_type": "code",
      "execution_count": 46,
      "metadata": {
        "colab": {
          "base_uri": "https://localhost:8080/",
          "height": 490
        },
        "id": "wdLeLJe3lkH9",
        "outputId": "587502d2-9bf9-4407-e05d-ab519459e2b9"
      },
      "outputs": [
        {
          "output_type": "execute_result",
          "data": {
            "text/plain": [
              "        lat       lng    zip           timeStamp  \\\n",
              "0  5.635828 -0.161359  233.0 2015-11-10 15:20:00   \n",
              "1  5.644369 -0.185427  233.0 2015-11-10 17:35:00   \n",
              "2  5.633940 -0.174082  233.0 2015-11-10 14:39:00   \n",
              "3  5.651038 -0.135459  233.0 2015-11-10 16:47:00   \n",
              "4  5.652202 -0.188107  233.0 2015-11-10 16:56:00   \n",
              "\n",
              "                                    addr  Hour  Day     Month  Year  \\\n",
              "0                             east legon    15  Tue  November  2015   \n",
              "1                         vikings hostel    17  Tue  November  2015   \n",
              "2                               shiashie    14  Tue  November  2015   \n",
              "3                           adjiringanor    16  Tue  November  2015   \n",
              "4  university of ghana computing systems    16  Tue  November  2015   \n",
              "\n",
              "         Date  ... Wusuta Yamfo  Yamoransa  Yefri  Zabrama  Ziope  kpeve  \\\n",
              "0  2015-11-10  ...      0     0          0      0        0      0      0   \n",
              "1  2015-11-10  ...      0     0          0      0        0      0      0   \n",
              "2  2015-11-10  ...      0     0          0      0        0      0      0   \n",
              "3  2015-11-10  ...      0     0          0      0        0      0      0   \n",
              "4  2015-11-10  ...      0     0          0      0        0      0      0   \n",
              "\n",
              "   nungua  suhum  İnsu  \n",
              "0       0      0     0  \n",
              "1       0      0     0  \n",
              "2       0      0     0  \n",
              "3       0      0     0  \n",
              "4       0      0     0  \n",
              "\n",
              "[5 rows x 809 columns]"
            ],
            "text/html": [
              "\n",
              "  <div id=\"df-087c20d2-2383-4fd2-9f74-38c9fa7f0b2b\">\n",
              "    <div class=\"colab-df-container\">\n",
              "      <div>\n",
              "<style scoped>\n",
              "    .dataframe tbody tr th:only-of-type {\n",
              "        vertical-align: middle;\n",
              "    }\n",
              "\n",
              "    .dataframe tbody tr th {\n",
              "        vertical-align: top;\n",
              "    }\n",
              "\n",
              "    .dataframe thead th {\n",
              "        text-align: right;\n",
              "    }\n",
              "</style>\n",
              "<table border=\"1\" class=\"dataframe\">\n",
              "  <thead>\n",
              "    <tr style=\"text-align: right;\">\n",
              "      <th></th>\n",
              "      <th>lat</th>\n",
              "      <th>lng</th>\n",
              "      <th>zip</th>\n",
              "      <th>timeStamp</th>\n",
              "      <th>addr</th>\n",
              "      <th>Hour</th>\n",
              "      <th>Day</th>\n",
              "      <th>Month</th>\n",
              "      <th>Year</th>\n",
              "      <th>Date</th>\n",
              "      <th>...</th>\n",
              "      <th>Wusuta</th>\n",
              "      <th>Yamfo</th>\n",
              "      <th>Yamoransa</th>\n",
              "      <th>Yefri</th>\n",
              "      <th>Zabrama</th>\n",
              "      <th>Ziope</th>\n",
              "      <th>kpeve</th>\n",
              "      <th>nungua</th>\n",
              "      <th>suhum</th>\n",
              "      <th>İnsu</th>\n",
              "    </tr>\n",
              "  </thead>\n",
              "  <tbody>\n",
              "    <tr>\n",
              "      <th>0</th>\n",
              "      <td>5.635828</td>\n",
              "      <td>-0.161359</td>\n",
              "      <td>233.0</td>\n",
              "      <td>2015-11-10 15:20:00</td>\n",
              "      <td>east legon</td>\n",
              "      <td>15</td>\n",
              "      <td>Tue</td>\n",
              "      <td>November</td>\n",
              "      <td>2015</td>\n",
              "      <td>2015-11-10</td>\n",
              "      <td>...</td>\n",
              "      <td>0</td>\n",
              "      <td>0</td>\n",
              "      <td>0</td>\n",
              "      <td>0</td>\n",
              "      <td>0</td>\n",
              "      <td>0</td>\n",
              "      <td>0</td>\n",
              "      <td>0</td>\n",
              "      <td>0</td>\n",
              "      <td>0</td>\n",
              "    </tr>\n",
              "    <tr>\n",
              "      <th>1</th>\n",
              "      <td>5.644369</td>\n",
              "      <td>-0.185427</td>\n",
              "      <td>233.0</td>\n",
              "      <td>2015-11-10 17:35:00</td>\n",
              "      <td>vikings hostel</td>\n",
              "      <td>17</td>\n",
              "      <td>Tue</td>\n",
              "      <td>November</td>\n",
              "      <td>2015</td>\n",
              "      <td>2015-11-10</td>\n",
              "      <td>...</td>\n",
              "      <td>0</td>\n",
              "      <td>0</td>\n",
              "      <td>0</td>\n",
              "      <td>0</td>\n",
              "      <td>0</td>\n",
              "      <td>0</td>\n",
              "      <td>0</td>\n",
              "      <td>0</td>\n",
              "      <td>0</td>\n",
              "      <td>0</td>\n",
              "    </tr>\n",
              "    <tr>\n",
              "      <th>2</th>\n",
              "      <td>5.633940</td>\n",
              "      <td>-0.174082</td>\n",
              "      <td>233.0</td>\n",
              "      <td>2015-11-10 14:39:00</td>\n",
              "      <td>shiashie</td>\n",
              "      <td>14</td>\n",
              "      <td>Tue</td>\n",
              "      <td>November</td>\n",
              "      <td>2015</td>\n",
              "      <td>2015-11-10</td>\n",
              "      <td>...</td>\n",
              "      <td>0</td>\n",
              "      <td>0</td>\n",
              "      <td>0</td>\n",
              "      <td>0</td>\n",
              "      <td>0</td>\n",
              "      <td>0</td>\n",
              "      <td>0</td>\n",
              "      <td>0</td>\n",
              "      <td>0</td>\n",
              "      <td>0</td>\n",
              "    </tr>\n",
              "    <tr>\n",
              "      <th>3</th>\n",
              "      <td>5.651038</td>\n",
              "      <td>-0.135459</td>\n",
              "      <td>233.0</td>\n",
              "      <td>2015-11-10 16:47:00</td>\n",
              "      <td>adjiringanor</td>\n",
              "      <td>16</td>\n",
              "      <td>Tue</td>\n",
              "      <td>November</td>\n",
              "      <td>2015</td>\n",
              "      <td>2015-11-10</td>\n",
              "      <td>...</td>\n",
              "      <td>0</td>\n",
              "      <td>0</td>\n",
              "      <td>0</td>\n",
              "      <td>0</td>\n",
              "      <td>0</td>\n",
              "      <td>0</td>\n",
              "      <td>0</td>\n",
              "      <td>0</td>\n",
              "      <td>0</td>\n",
              "      <td>0</td>\n",
              "    </tr>\n",
              "    <tr>\n",
              "      <th>4</th>\n",
              "      <td>5.652202</td>\n",
              "      <td>-0.188107</td>\n",
              "      <td>233.0</td>\n",
              "      <td>2015-11-10 16:56:00</td>\n",
              "      <td>university of ghana computing systems</td>\n",
              "      <td>16</td>\n",
              "      <td>Tue</td>\n",
              "      <td>November</td>\n",
              "      <td>2015</td>\n",
              "      <td>2015-11-10</td>\n",
              "      <td>...</td>\n",
              "      <td>0</td>\n",
              "      <td>0</td>\n",
              "      <td>0</td>\n",
              "      <td>0</td>\n",
              "      <td>0</td>\n",
              "      <td>0</td>\n",
              "      <td>0</td>\n",
              "      <td>0</td>\n",
              "      <td>0</td>\n",
              "      <td>0</td>\n",
              "    </tr>\n",
              "  </tbody>\n",
              "</table>\n",
              "<p>5 rows × 809 columns</p>\n",
              "</div>\n",
              "      <button class=\"colab-df-convert\" onclick=\"convertToInteractive('df-087c20d2-2383-4fd2-9f74-38c9fa7f0b2b')\"\n",
              "              title=\"Convert this dataframe to an interactive table.\"\n",
              "              style=\"display:none;\">\n",
              "        \n",
              "  <svg xmlns=\"http://www.w3.org/2000/svg\" height=\"24px\"viewBox=\"0 0 24 24\"\n",
              "       width=\"24px\">\n",
              "    <path d=\"M0 0h24v24H0V0z\" fill=\"none\"/>\n",
              "    <path d=\"M18.56 5.44l.94 2.06.94-2.06 2.06-.94-2.06-.94-.94-2.06-.94 2.06-2.06.94zm-11 1L8.5 8.5l.94-2.06 2.06-.94-2.06-.94L8.5 2.5l-.94 2.06-2.06.94zm10 10l.94 2.06.94-2.06 2.06-.94-2.06-.94-.94-2.06-.94 2.06-2.06.94z\"/><path d=\"M17.41 7.96l-1.37-1.37c-.4-.4-.92-.59-1.43-.59-.52 0-1.04.2-1.43.59L10.3 9.45l-7.72 7.72c-.78.78-.78 2.05 0 2.83L4 21.41c.39.39.9.59 1.41.59.51 0 1.02-.2 1.41-.59l7.78-7.78 2.81-2.81c.8-.78.8-2.07 0-2.86zM5.41 20L4 18.59l7.72-7.72 1.47 1.35L5.41 20z\"/>\n",
              "  </svg>\n",
              "      </button>\n",
              "      \n",
              "  <style>\n",
              "    .colab-df-container {\n",
              "      display:flex;\n",
              "      flex-wrap:wrap;\n",
              "      gap: 12px;\n",
              "    }\n",
              "\n",
              "    .colab-df-convert {\n",
              "      background-color: #E8F0FE;\n",
              "      border: none;\n",
              "      border-radius: 50%;\n",
              "      cursor: pointer;\n",
              "      display: none;\n",
              "      fill: #1967D2;\n",
              "      height: 32px;\n",
              "      padding: 0 0 0 0;\n",
              "      width: 32px;\n",
              "    }\n",
              "\n",
              "    .colab-df-convert:hover {\n",
              "      background-color: #E2EBFA;\n",
              "      box-shadow: 0px 1px 2px rgba(60, 64, 67, 0.3), 0px 1px 3px 1px rgba(60, 64, 67, 0.15);\n",
              "      fill: #174EA6;\n",
              "    }\n",
              "\n",
              "    [theme=dark] .colab-df-convert {\n",
              "      background-color: #3B4455;\n",
              "      fill: #D2E3FC;\n",
              "    }\n",
              "\n",
              "    [theme=dark] .colab-df-convert:hover {\n",
              "      background-color: #434B5C;\n",
              "      box-shadow: 0px 1px 3px 1px rgba(0, 0, 0, 0.15);\n",
              "      filter: drop-shadow(0px 1px 2px rgba(0, 0, 0, 0.3));\n",
              "      fill: #FFFFFF;\n",
              "    }\n",
              "  </style>\n",
              "\n",
              "      <script>\n",
              "        const buttonEl =\n",
              "          document.querySelector('#df-087c20d2-2383-4fd2-9f74-38c9fa7f0b2b button.colab-df-convert');\n",
              "        buttonEl.style.display =\n",
              "          google.colab.kernel.accessAllowed ? 'block' : 'none';\n",
              "\n",
              "        async function convertToInteractive(key) {\n",
              "          const element = document.querySelector('#df-087c20d2-2383-4fd2-9f74-38c9fa7f0b2b');\n",
              "          const dataTable =\n",
              "            await google.colab.kernel.invokeFunction('convertToInteractive',\n",
              "                                                     [key], {});\n",
              "          if (!dataTable) return;\n",
              "\n",
              "          const docLinkHtml = 'Like what you see? Visit the ' +\n",
              "            '<a target=\"_blank\" href=https://colab.research.google.com/notebooks/data_table.ipynb>data table notebook</a>'\n",
              "            + ' to learn more about interactive tables.';\n",
              "          element.innerHTML = '';\n",
              "          dataTable['output_type'] = 'display_data';\n",
              "          await google.colab.output.renderOutput(dataTable, element);\n",
              "          const docLink = document.createElement('div');\n",
              "          docLink.innerHTML = docLinkHtml;\n",
              "          element.appendChild(docLink);\n",
              "        }\n",
              "      </script>\n",
              "    </div>\n",
              "  </div>\n",
              "  "
            ]
          },
          "metadata": {},
          "execution_count": 46
        }
      ],
      "source": [
        "townships=df['twp'].unique().tolist()\n",
        "one_hot = pd.get_dummies(df['twp'])\n",
        "df.drop('twp', inplace=True, axis=1)\n",
        "df = df.join(one_hot)\n",
        "df.head()"
      ]
    },
    {
      "cell_type": "code",
      "execution_count": 47,
      "metadata": {
        "colab": {
          "base_uri": "https://localhost:8080/",
          "height": 490
        },
        "id": "gILezlkolw2R",
        "outputId": "00e36078-971d-477a-adea-6e646b898884"
      },
      "outputs": [
        {
          "output_type": "execute_result",
          "data": {
            "text/plain": [
              "        lat       lng    zip           timeStamp  \\\n",
              "0  5.635828 -0.161359  233.0 2015-11-10 15:20:00   \n",
              "1  5.644369 -0.185427  233.0 2015-11-10 17:35:00   \n",
              "2  5.633940 -0.174082  233.0 2015-11-10 14:39:00   \n",
              "3  5.651038 -0.135459  233.0 2015-11-10 16:47:00   \n",
              "4  5.652202 -0.188107  233.0 2015-11-10 16:56:00   \n",
              "\n",
              "                                    addr  Hour  Day  Year        Date  Type  \\\n",
              "0                             east legon    15  Tue  2015  2015-11-10   EMS   \n",
              "1                         vikings hostel    17  Tue  2015  2015-11-10   EMS   \n",
              "2                               shiashie    14  Tue  2015  2015-11-10  Fire   \n",
              "3                           adjiringanor    16  Tue  2015  2015-11-10   EMS   \n",
              "4  university of ghana computing systems    16  Tue  2015  2015-11-10   EMS   \n",
              "\n",
              "   ... kpeve  nungua  suhum  İnsu  April  December  February  January  March  \\\n",
              "0  ...     0       0      0     0      0         0         0        0      0   \n",
              "1  ...     0       0      0     0      0         0         0        0      0   \n",
              "2  ...     0       0      0     0      0         0         0        0      0   \n",
              "3  ...     0       0      0     0      0         0         0        0      0   \n",
              "4  ...     0       0      0     0      0         0         0        0      0   \n",
              "\n",
              "   November  \n",
              "0         1  \n",
              "1         1  \n",
              "2         1  \n",
              "3         1  \n",
              "4         1  \n",
              "\n",
              "[5 rows x 814 columns]"
            ],
            "text/html": [
              "\n",
              "  <div id=\"df-83383a44-c0c6-47b2-8916-b9047e9a93f9\">\n",
              "    <div class=\"colab-df-container\">\n",
              "      <div>\n",
              "<style scoped>\n",
              "    .dataframe tbody tr th:only-of-type {\n",
              "        vertical-align: middle;\n",
              "    }\n",
              "\n",
              "    .dataframe tbody tr th {\n",
              "        vertical-align: top;\n",
              "    }\n",
              "\n",
              "    .dataframe thead th {\n",
              "        text-align: right;\n",
              "    }\n",
              "</style>\n",
              "<table border=\"1\" class=\"dataframe\">\n",
              "  <thead>\n",
              "    <tr style=\"text-align: right;\">\n",
              "      <th></th>\n",
              "      <th>lat</th>\n",
              "      <th>lng</th>\n",
              "      <th>zip</th>\n",
              "      <th>timeStamp</th>\n",
              "      <th>addr</th>\n",
              "      <th>Hour</th>\n",
              "      <th>Day</th>\n",
              "      <th>Year</th>\n",
              "      <th>Date</th>\n",
              "      <th>Type</th>\n",
              "      <th>...</th>\n",
              "      <th>kpeve</th>\n",
              "      <th>nungua</th>\n",
              "      <th>suhum</th>\n",
              "      <th>İnsu</th>\n",
              "      <th>April</th>\n",
              "      <th>December</th>\n",
              "      <th>February</th>\n",
              "      <th>January</th>\n",
              "      <th>March</th>\n",
              "      <th>November</th>\n",
              "    </tr>\n",
              "  </thead>\n",
              "  <tbody>\n",
              "    <tr>\n",
              "      <th>0</th>\n",
              "      <td>5.635828</td>\n",
              "      <td>-0.161359</td>\n",
              "      <td>233.0</td>\n",
              "      <td>2015-11-10 15:20:00</td>\n",
              "      <td>east legon</td>\n",
              "      <td>15</td>\n",
              "      <td>Tue</td>\n",
              "      <td>2015</td>\n",
              "      <td>2015-11-10</td>\n",
              "      <td>EMS</td>\n",
              "      <td>...</td>\n",
              "      <td>0</td>\n",
              "      <td>0</td>\n",
              "      <td>0</td>\n",
              "      <td>0</td>\n",
              "      <td>0</td>\n",
              "      <td>0</td>\n",
              "      <td>0</td>\n",
              "      <td>0</td>\n",
              "      <td>0</td>\n",
              "      <td>1</td>\n",
              "    </tr>\n",
              "    <tr>\n",
              "      <th>1</th>\n",
              "      <td>5.644369</td>\n",
              "      <td>-0.185427</td>\n",
              "      <td>233.0</td>\n",
              "      <td>2015-11-10 17:35:00</td>\n",
              "      <td>vikings hostel</td>\n",
              "      <td>17</td>\n",
              "      <td>Tue</td>\n",
              "      <td>2015</td>\n",
              "      <td>2015-11-10</td>\n",
              "      <td>EMS</td>\n",
              "      <td>...</td>\n",
              "      <td>0</td>\n",
              "      <td>0</td>\n",
              "      <td>0</td>\n",
              "      <td>0</td>\n",
              "      <td>0</td>\n",
              "      <td>0</td>\n",
              "      <td>0</td>\n",
              "      <td>0</td>\n",
              "      <td>0</td>\n",
              "      <td>1</td>\n",
              "    </tr>\n",
              "    <tr>\n",
              "      <th>2</th>\n",
              "      <td>5.633940</td>\n",
              "      <td>-0.174082</td>\n",
              "      <td>233.0</td>\n",
              "      <td>2015-11-10 14:39:00</td>\n",
              "      <td>shiashie</td>\n",
              "      <td>14</td>\n",
              "      <td>Tue</td>\n",
              "      <td>2015</td>\n",
              "      <td>2015-11-10</td>\n",
              "      <td>Fire</td>\n",
              "      <td>...</td>\n",
              "      <td>0</td>\n",
              "      <td>0</td>\n",
              "      <td>0</td>\n",
              "      <td>0</td>\n",
              "      <td>0</td>\n",
              "      <td>0</td>\n",
              "      <td>0</td>\n",
              "      <td>0</td>\n",
              "      <td>0</td>\n",
              "      <td>1</td>\n",
              "    </tr>\n",
              "    <tr>\n",
              "      <th>3</th>\n",
              "      <td>5.651038</td>\n",
              "      <td>-0.135459</td>\n",
              "      <td>233.0</td>\n",
              "      <td>2015-11-10 16:47:00</td>\n",
              "      <td>adjiringanor</td>\n",
              "      <td>16</td>\n",
              "      <td>Tue</td>\n",
              "      <td>2015</td>\n",
              "      <td>2015-11-10</td>\n",
              "      <td>EMS</td>\n",
              "      <td>...</td>\n",
              "      <td>0</td>\n",
              "      <td>0</td>\n",
              "      <td>0</td>\n",
              "      <td>0</td>\n",
              "      <td>0</td>\n",
              "      <td>0</td>\n",
              "      <td>0</td>\n",
              "      <td>0</td>\n",
              "      <td>0</td>\n",
              "      <td>1</td>\n",
              "    </tr>\n",
              "    <tr>\n",
              "      <th>4</th>\n",
              "      <td>5.652202</td>\n",
              "      <td>-0.188107</td>\n",
              "      <td>233.0</td>\n",
              "      <td>2015-11-10 16:56:00</td>\n",
              "      <td>university of ghana computing systems</td>\n",
              "      <td>16</td>\n",
              "      <td>Tue</td>\n",
              "      <td>2015</td>\n",
              "      <td>2015-11-10</td>\n",
              "      <td>EMS</td>\n",
              "      <td>...</td>\n",
              "      <td>0</td>\n",
              "      <td>0</td>\n",
              "      <td>0</td>\n",
              "      <td>0</td>\n",
              "      <td>0</td>\n",
              "      <td>0</td>\n",
              "      <td>0</td>\n",
              "      <td>0</td>\n",
              "      <td>0</td>\n",
              "      <td>1</td>\n",
              "    </tr>\n",
              "  </tbody>\n",
              "</table>\n",
              "<p>5 rows × 814 columns</p>\n",
              "</div>\n",
              "      <button class=\"colab-df-convert\" onclick=\"convertToInteractive('df-83383a44-c0c6-47b2-8916-b9047e9a93f9')\"\n",
              "              title=\"Convert this dataframe to an interactive table.\"\n",
              "              style=\"display:none;\">\n",
              "        \n",
              "  <svg xmlns=\"http://www.w3.org/2000/svg\" height=\"24px\"viewBox=\"0 0 24 24\"\n",
              "       width=\"24px\">\n",
              "    <path d=\"M0 0h24v24H0V0z\" fill=\"none\"/>\n",
              "    <path d=\"M18.56 5.44l.94 2.06.94-2.06 2.06-.94-2.06-.94-.94-2.06-.94 2.06-2.06.94zm-11 1L8.5 8.5l.94-2.06 2.06-.94-2.06-.94L8.5 2.5l-.94 2.06-2.06.94zm10 10l.94 2.06.94-2.06 2.06-.94-2.06-.94-.94-2.06-.94 2.06-2.06.94z\"/><path d=\"M17.41 7.96l-1.37-1.37c-.4-.4-.92-.59-1.43-.59-.52 0-1.04.2-1.43.59L10.3 9.45l-7.72 7.72c-.78.78-.78 2.05 0 2.83L4 21.41c.39.39.9.59 1.41.59.51 0 1.02-.2 1.41-.59l7.78-7.78 2.81-2.81c.8-.78.8-2.07 0-2.86zM5.41 20L4 18.59l7.72-7.72 1.47 1.35L5.41 20z\"/>\n",
              "  </svg>\n",
              "      </button>\n",
              "      \n",
              "  <style>\n",
              "    .colab-df-container {\n",
              "      display:flex;\n",
              "      flex-wrap:wrap;\n",
              "      gap: 12px;\n",
              "    }\n",
              "\n",
              "    .colab-df-convert {\n",
              "      background-color: #E8F0FE;\n",
              "      border: none;\n",
              "      border-radius: 50%;\n",
              "      cursor: pointer;\n",
              "      display: none;\n",
              "      fill: #1967D2;\n",
              "      height: 32px;\n",
              "      padding: 0 0 0 0;\n",
              "      width: 32px;\n",
              "    }\n",
              "\n",
              "    .colab-df-convert:hover {\n",
              "      background-color: #E2EBFA;\n",
              "      box-shadow: 0px 1px 2px rgba(60, 64, 67, 0.3), 0px 1px 3px 1px rgba(60, 64, 67, 0.15);\n",
              "      fill: #174EA6;\n",
              "    }\n",
              "\n",
              "    [theme=dark] .colab-df-convert {\n",
              "      background-color: #3B4455;\n",
              "      fill: #D2E3FC;\n",
              "    }\n",
              "\n",
              "    [theme=dark] .colab-df-convert:hover {\n",
              "      background-color: #434B5C;\n",
              "      box-shadow: 0px 1px 3px 1px rgba(0, 0, 0, 0.15);\n",
              "      filter: drop-shadow(0px 1px 2px rgba(0, 0, 0, 0.3));\n",
              "      fill: #FFFFFF;\n",
              "    }\n",
              "  </style>\n",
              "\n",
              "      <script>\n",
              "        const buttonEl =\n",
              "          document.querySelector('#df-83383a44-c0c6-47b2-8916-b9047e9a93f9 button.colab-df-convert');\n",
              "        buttonEl.style.display =\n",
              "          google.colab.kernel.accessAllowed ? 'block' : 'none';\n",
              "\n",
              "        async function convertToInteractive(key) {\n",
              "          const element = document.querySelector('#df-83383a44-c0c6-47b2-8916-b9047e9a93f9');\n",
              "          const dataTable =\n",
              "            await google.colab.kernel.invokeFunction('convertToInteractive',\n",
              "                                                     [key], {});\n",
              "          if (!dataTable) return;\n",
              "\n",
              "          const docLinkHtml = 'Like what you see? Visit the ' +\n",
              "            '<a target=\"_blank\" href=https://colab.research.google.com/notebooks/data_table.ipynb>data table notebook</a>'\n",
              "            + ' to learn more about interactive tables.';\n",
              "          element.innerHTML = '';\n",
              "          dataTable['output_type'] = 'display_data';\n",
              "          await google.colab.output.renderOutput(dataTable, element);\n",
              "          const docLink = document.createElement('div');\n",
              "          docLink.innerHTML = docLinkHtml;\n",
              "          element.appendChild(docLink);\n",
              "        }\n",
              "      </script>\n",
              "    </div>\n",
              "  </div>\n",
              "  "
            ]
          },
          "metadata": {},
          "execution_count": 47
        }
      ],
      "source": [
        "months=df['Month'].unique().tolist()\n",
        "one_hot = pd.get_dummies(df['Month'])\n",
        "df.drop('Month', inplace=True, axis=1)\n",
        "df = df.join(one_hot)\n",
        "df.head()"
      ]
    },
    {
      "cell_type": "code",
      "execution_count": 48,
      "metadata": {
        "id": "KOJq51y_-NgP"
      },
      "outputs": [],
      "source": [
        "def convertHr(x):\n",
        "    if x>=6 and x<12:\n",
        "        return \"Morning\"\n",
        "    elif x>=12 and x<16:\n",
        "        return \"Afternoon\"\n",
        "    elif x>=16 and x<21:\n",
        "        return \"Evening\"\n",
        "    else:\n",
        "        return \"Night\"\n",
        "df.Hour = df.Hour.map(convertHr)"
      ]
    },
    {
      "cell_type": "code",
      "execution_count": 49,
      "metadata": {
        "colab": {
          "base_uri": "https://localhost:8080/",
          "height": 490
        },
        "id": "A0IHwOPzmDMc",
        "outputId": "8009c4f1-a752-40d1-f41b-f7b71bee3bb2"
      },
      "outputs": [
        {
          "output_type": "execute_result",
          "data": {
            "text/plain": [
              "        lat       lng    zip           timeStamp  \\\n",
              "0  5.635828 -0.161359  233.0 2015-11-10 15:20:00   \n",
              "1  5.644369 -0.185427  233.0 2015-11-10 17:35:00   \n",
              "2  5.633940 -0.174082  233.0 2015-11-10 14:39:00   \n",
              "3  5.651038 -0.135459  233.0 2015-11-10 16:47:00   \n",
              "4  5.652202 -0.188107  233.0 2015-11-10 16:56:00   \n",
              "\n",
              "                                    addr  Day  Year        Date  Type  \\\n",
              "0                             east legon  Tue  2015  2015-11-10   EMS   \n",
              "1                         vikings hostel  Tue  2015  2015-11-10   EMS   \n",
              "2                               shiashie  Tue  2015  2015-11-10  Fire   \n",
              "3                           adjiringanor  Tue  2015  2015-11-10   EMS   \n",
              "4  university of ghana computing systems  Tue  2015  2015-11-10   EMS   \n",
              "\n",
              "                Reason  ...  April  December  February  January  March  \\\n",
              "0    BACK PAINS/INJURY  ...      0         0         0        0      0   \n",
              "1   DIABETIC EMERGENCY  ...      0         0         0        0      0   \n",
              "2        GAS-ODOR/LEAK  ...      0         0         0        0      0   \n",
              "3    CARDIAC EMERGENCY  ...      0         0         0        0      0   \n",
              "4            DIZZINESS  ...      0         0         0        0      0   \n",
              "\n",
              "   November  Afternoon  Evening  Morning  Night  \n",
              "0         1          1        0        0      0  \n",
              "1         1          0        1        0      0  \n",
              "2         1          1        0        0      0  \n",
              "3         1          0        1        0      0  \n",
              "4         1          0        1        0      0  \n",
              "\n",
              "[5 rows x 817 columns]"
            ],
            "text/html": [
              "\n",
              "  <div id=\"df-f868b710-c427-4077-891b-cf8a9339b180\">\n",
              "    <div class=\"colab-df-container\">\n",
              "      <div>\n",
              "<style scoped>\n",
              "    .dataframe tbody tr th:only-of-type {\n",
              "        vertical-align: middle;\n",
              "    }\n",
              "\n",
              "    .dataframe tbody tr th {\n",
              "        vertical-align: top;\n",
              "    }\n",
              "\n",
              "    .dataframe thead th {\n",
              "        text-align: right;\n",
              "    }\n",
              "</style>\n",
              "<table border=\"1\" class=\"dataframe\">\n",
              "  <thead>\n",
              "    <tr style=\"text-align: right;\">\n",
              "      <th></th>\n",
              "      <th>lat</th>\n",
              "      <th>lng</th>\n",
              "      <th>zip</th>\n",
              "      <th>timeStamp</th>\n",
              "      <th>addr</th>\n",
              "      <th>Day</th>\n",
              "      <th>Year</th>\n",
              "      <th>Date</th>\n",
              "      <th>Type</th>\n",
              "      <th>Reason</th>\n",
              "      <th>...</th>\n",
              "      <th>April</th>\n",
              "      <th>December</th>\n",
              "      <th>February</th>\n",
              "      <th>January</th>\n",
              "      <th>March</th>\n",
              "      <th>November</th>\n",
              "      <th>Afternoon</th>\n",
              "      <th>Evening</th>\n",
              "      <th>Morning</th>\n",
              "      <th>Night</th>\n",
              "    </tr>\n",
              "  </thead>\n",
              "  <tbody>\n",
              "    <tr>\n",
              "      <th>0</th>\n",
              "      <td>5.635828</td>\n",
              "      <td>-0.161359</td>\n",
              "      <td>233.0</td>\n",
              "      <td>2015-11-10 15:20:00</td>\n",
              "      <td>east legon</td>\n",
              "      <td>Tue</td>\n",
              "      <td>2015</td>\n",
              "      <td>2015-11-10</td>\n",
              "      <td>EMS</td>\n",
              "      <td>BACK PAINS/INJURY</td>\n",
              "      <td>...</td>\n",
              "      <td>0</td>\n",
              "      <td>0</td>\n",
              "      <td>0</td>\n",
              "      <td>0</td>\n",
              "      <td>0</td>\n",
              "      <td>1</td>\n",
              "      <td>1</td>\n",
              "      <td>0</td>\n",
              "      <td>0</td>\n",
              "      <td>0</td>\n",
              "    </tr>\n",
              "    <tr>\n",
              "      <th>1</th>\n",
              "      <td>5.644369</td>\n",
              "      <td>-0.185427</td>\n",
              "      <td>233.0</td>\n",
              "      <td>2015-11-10 17:35:00</td>\n",
              "      <td>vikings hostel</td>\n",
              "      <td>Tue</td>\n",
              "      <td>2015</td>\n",
              "      <td>2015-11-10</td>\n",
              "      <td>EMS</td>\n",
              "      <td>DIABETIC EMERGENCY</td>\n",
              "      <td>...</td>\n",
              "      <td>0</td>\n",
              "      <td>0</td>\n",
              "      <td>0</td>\n",
              "      <td>0</td>\n",
              "      <td>0</td>\n",
              "      <td>1</td>\n",
              "      <td>0</td>\n",
              "      <td>1</td>\n",
              "      <td>0</td>\n",
              "      <td>0</td>\n",
              "    </tr>\n",
              "    <tr>\n",
              "      <th>2</th>\n",
              "      <td>5.633940</td>\n",
              "      <td>-0.174082</td>\n",
              "      <td>233.0</td>\n",
              "      <td>2015-11-10 14:39:00</td>\n",
              "      <td>shiashie</td>\n",
              "      <td>Tue</td>\n",
              "      <td>2015</td>\n",
              "      <td>2015-11-10</td>\n",
              "      <td>Fire</td>\n",
              "      <td>GAS-ODOR/LEAK</td>\n",
              "      <td>...</td>\n",
              "      <td>0</td>\n",
              "      <td>0</td>\n",
              "      <td>0</td>\n",
              "      <td>0</td>\n",
              "      <td>0</td>\n",
              "      <td>1</td>\n",
              "      <td>1</td>\n",
              "      <td>0</td>\n",
              "      <td>0</td>\n",
              "      <td>0</td>\n",
              "    </tr>\n",
              "    <tr>\n",
              "      <th>3</th>\n",
              "      <td>5.651038</td>\n",
              "      <td>-0.135459</td>\n",
              "      <td>233.0</td>\n",
              "      <td>2015-11-10 16:47:00</td>\n",
              "      <td>adjiringanor</td>\n",
              "      <td>Tue</td>\n",
              "      <td>2015</td>\n",
              "      <td>2015-11-10</td>\n",
              "      <td>EMS</td>\n",
              "      <td>CARDIAC EMERGENCY</td>\n",
              "      <td>...</td>\n",
              "      <td>0</td>\n",
              "      <td>0</td>\n",
              "      <td>0</td>\n",
              "      <td>0</td>\n",
              "      <td>0</td>\n",
              "      <td>1</td>\n",
              "      <td>0</td>\n",
              "      <td>1</td>\n",
              "      <td>0</td>\n",
              "      <td>0</td>\n",
              "    </tr>\n",
              "    <tr>\n",
              "      <th>4</th>\n",
              "      <td>5.652202</td>\n",
              "      <td>-0.188107</td>\n",
              "      <td>233.0</td>\n",
              "      <td>2015-11-10 16:56:00</td>\n",
              "      <td>university of ghana computing systems</td>\n",
              "      <td>Tue</td>\n",
              "      <td>2015</td>\n",
              "      <td>2015-11-10</td>\n",
              "      <td>EMS</td>\n",
              "      <td>DIZZINESS</td>\n",
              "      <td>...</td>\n",
              "      <td>0</td>\n",
              "      <td>0</td>\n",
              "      <td>0</td>\n",
              "      <td>0</td>\n",
              "      <td>0</td>\n",
              "      <td>1</td>\n",
              "      <td>0</td>\n",
              "      <td>1</td>\n",
              "      <td>0</td>\n",
              "      <td>0</td>\n",
              "    </tr>\n",
              "  </tbody>\n",
              "</table>\n",
              "<p>5 rows × 817 columns</p>\n",
              "</div>\n",
              "      <button class=\"colab-df-convert\" onclick=\"convertToInteractive('df-f868b710-c427-4077-891b-cf8a9339b180')\"\n",
              "              title=\"Convert this dataframe to an interactive table.\"\n",
              "              style=\"display:none;\">\n",
              "        \n",
              "  <svg xmlns=\"http://www.w3.org/2000/svg\" height=\"24px\"viewBox=\"0 0 24 24\"\n",
              "       width=\"24px\">\n",
              "    <path d=\"M0 0h24v24H0V0z\" fill=\"none\"/>\n",
              "    <path d=\"M18.56 5.44l.94 2.06.94-2.06 2.06-.94-2.06-.94-.94-2.06-.94 2.06-2.06.94zm-11 1L8.5 8.5l.94-2.06 2.06-.94-2.06-.94L8.5 2.5l-.94 2.06-2.06.94zm10 10l.94 2.06.94-2.06 2.06-.94-2.06-.94-.94-2.06-.94 2.06-2.06.94z\"/><path d=\"M17.41 7.96l-1.37-1.37c-.4-.4-.92-.59-1.43-.59-.52 0-1.04.2-1.43.59L10.3 9.45l-7.72 7.72c-.78.78-.78 2.05 0 2.83L4 21.41c.39.39.9.59 1.41.59.51 0 1.02-.2 1.41-.59l7.78-7.78 2.81-2.81c.8-.78.8-2.07 0-2.86zM5.41 20L4 18.59l7.72-7.72 1.47 1.35L5.41 20z\"/>\n",
              "  </svg>\n",
              "      </button>\n",
              "      \n",
              "  <style>\n",
              "    .colab-df-container {\n",
              "      display:flex;\n",
              "      flex-wrap:wrap;\n",
              "      gap: 12px;\n",
              "    }\n",
              "\n",
              "    .colab-df-convert {\n",
              "      background-color: #E8F0FE;\n",
              "      border: none;\n",
              "      border-radius: 50%;\n",
              "      cursor: pointer;\n",
              "      display: none;\n",
              "      fill: #1967D2;\n",
              "      height: 32px;\n",
              "      padding: 0 0 0 0;\n",
              "      width: 32px;\n",
              "    }\n",
              "\n",
              "    .colab-df-convert:hover {\n",
              "      background-color: #E2EBFA;\n",
              "      box-shadow: 0px 1px 2px rgba(60, 64, 67, 0.3), 0px 1px 3px 1px rgba(60, 64, 67, 0.15);\n",
              "      fill: #174EA6;\n",
              "    }\n",
              "\n",
              "    [theme=dark] .colab-df-convert {\n",
              "      background-color: #3B4455;\n",
              "      fill: #D2E3FC;\n",
              "    }\n",
              "\n",
              "    [theme=dark] .colab-df-convert:hover {\n",
              "      background-color: #434B5C;\n",
              "      box-shadow: 0px 1px 3px 1px rgba(0, 0, 0, 0.15);\n",
              "      filter: drop-shadow(0px 1px 2px rgba(0, 0, 0, 0.3));\n",
              "      fill: #FFFFFF;\n",
              "    }\n",
              "  </style>\n",
              "\n",
              "      <script>\n",
              "        const buttonEl =\n",
              "          document.querySelector('#df-f868b710-c427-4077-891b-cf8a9339b180 button.colab-df-convert');\n",
              "        buttonEl.style.display =\n",
              "          google.colab.kernel.accessAllowed ? 'block' : 'none';\n",
              "\n",
              "        async function convertToInteractive(key) {\n",
              "          const element = document.querySelector('#df-f868b710-c427-4077-891b-cf8a9339b180');\n",
              "          const dataTable =\n",
              "            await google.colab.kernel.invokeFunction('convertToInteractive',\n",
              "                                                     [key], {});\n",
              "          if (!dataTable) return;\n",
              "\n",
              "          const docLinkHtml = 'Like what you see? Visit the ' +\n",
              "            '<a target=\"_blank\" href=https://colab.research.google.com/notebooks/data_table.ipynb>data table notebook</a>'\n",
              "            + ' to learn more about interactive tables.';\n",
              "          element.innerHTML = '';\n",
              "          dataTable['output_type'] = 'display_data';\n",
              "          await google.colab.output.renderOutput(dataTable, element);\n",
              "          const docLink = document.createElement('div');\n",
              "          docLink.innerHTML = docLinkHtml;\n",
              "          element.appendChild(docLink);\n",
              "        }\n",
              "      </script>\n",
              "    </div>\n",
              "  </div>\n",
              "  "
            ]
          },
          "metadata": {},
          "execution_count": 49
        }
      ],
      "source": [
        "times=df['Hour'].unique().tolist()\n",
        "one_hot = pd.get_dummies(df['Hour'])\n",
        "df.drop('Hour', inplace=True, axis=1)\n",
        "df = df.join(one_hot)\n",
        "df.head()"
      ]
    },
    {
      "cell_type": "code",
      "execution_count": 50,
      "metadata": {
        "colab": {
          "base_uri": "https://localhost:8080/",
          "height": 490
        },
        "id": "fvdm59-5LfHj",
        "outputId": "2154f43e-a8e0-4c5f-8ac5-b92a498c4ff1"
      },
      "outputs": [
        {
          "output_type": "execute_result",
          "data": {
            "text/plain": [
              "        lat       lng    zip           timeStamp  \\\n",
              "0  5.635828 -0.161359  233.0 2015-11-10 15:20:00   \n",
              "1  5.644369 -0.185427  233.0 2015-11-10 17:35:00   \n",
              "2  5.633940 -0.174082  233.0 2015-11-10 14:39:00   \n",
              "3  5.651038 -0.135459  233.0 2015-11-10 16:47:00   \n",
              "4  5.652202 -0.188107  233.0 2015-11-10 16:56:00   \n",
              "\n",
              "                                    addr  Year        Date  Type  \\\n",
              "0                             east legon  2015  2015-11-10   EMS   \n",
              "1                         vikings hostel  2015  2015-11-10   EMS   \n",
              "2                               shiashie  2015  2015-11-10  Fire   \n",
              "3                           adjiringanor  2015  2015-11-10   EMS   \n",
              "4  university of ghana computing systems  2015  2015-11-10   EMS   \n",
              "\n",
              "                Reason  Others  ...  Evening  Morning  Night  Fri  Mon  Sat  \\\n",
              "0    BACK PAINS/INJURY       1  ...        0        0      0    0    0    0   \n",
              "1   DIABETIC EMERGENCY       1  ...        1        0      0    0    0    0   \n",
              "2        GAS-ODOR/LEAK       1  ...        0        0      0    0    0    0   \n",
              "3    CARDIAC EMERGENCY       1  ...        1        0      0    0    0    0   \n",
              "4            DIZZINESS       1  ...        1        0      0    0    0    0   \n",
              "\n",
              "   Sun  Thu  Tue  Wed  \n",
              "0    0    0    1    0  \n",
              "1    0    0    1    0  \n",
              "2    0    0    1    0  \n",
              "3    0    0    1    0  \n",
              "4    0    0    1    0  \n",
              "\n",
              "[5 rows x 823 columns]"
            ],
            "text/html": [
              "\n",
              "  <div id=\"df-fa70aba9-026a-4dd9-b32b-db10463b9ea9\">\n",
              "    <div class=\"colab-df-container\">\n",
              "      <div>\n",
              "<style scoped>\n",
              "    .dataframe tbody tr th:only-of-type {\n",
              "        vertical-align: middle;\n",
              "    }\n",
              "\n",
              "    .dataframe tbody tr th {\n",
              "        vertical-align: top;\n",
              "    }\n",
              "\n",
              "    .dataframe thead th {\n",
              "        text-align: right;\n",
              "    }\n",
              "</style>\n",
              "<table border=\"1\" class=\"dataframe\">\n",
              "  <thead>\n",
              "    <tr style=\"text-align: right;\">\n",
              "      <th></th>\n",
              "      <th>lat</th>\n",
              "      <th>lng</th>\n",
              "      <th>zip</th>\n",
              "      <th>timeStamp</th>\n",
              "      <th>addr</th>\n",
              "      <th>Year</th>\n",
              "      <th>Date</th>\n",
              "      <th>Type</th>\n",
              "      <th>Reason</th>\n",
              "      <th>Others</th>\n",
              "      <th>...</th>\n",
              "      <th>Evening</th>\n",
              "      <th>Morning</th>\n",
              "      <th>Night</th>\n",
              "      <th>Fri</th>\n",
              "      <th>Mon</th>\n",
              "      <th>Sat</th>\n",
              "      <th>Sun</th>\n",
              "      <th>Thu</th>\n",
              "      <th>Tue</th>\n",
              "      <th>Wed</th>\n",
              "    </tr>\n",
              "  </thead>\n",
              "  <tbody>\n",
              "    <tr>\n",
              "      <th>0</th>\n",
              "      <td>5.635828</td>\n",
              "      <td>-0.161359</td>\n",
              "      <td>233.0</td>\n",
              "      <td>2015-11-10 15:20:00</td>\n",
              "      <td>east legon</td>\n",
              "      <td>2015</td>\n",
              "      <td>2015-11-10</td>\n",
              "      <td>EMS</td>\n",
              "      <td>BACK PAINS/INJURY</td>\n",
              "      <td>1</td>\n",
              "      <td>...</td>\n",
              "      <td>0</td>\n",
              "      <td>0</td>\n",
              "      <td>0</td>\n",
              "      <td>0</td>\n",
              "      <td>0</td>\n",
              "      <td>0</td>\n",
              "      <td>0</td>\n",
              "      <td>0</td>\n",
              "      <td>1</td>\n",
              "      <td>0</td>\n",
              "    </tr>\n",
              "    <tr>\n",
              "      <th>1</th>\n",
              "      <td>5.644369</td>\n",
              "      <td>-0.185427</td>\n",
              "      <td>233.0</td>\n",
              "      <td>2015-11-10 17:35:00</td>\n",
              "      <td>vikings hostel</td>\n",
              "      <td>2015</td>\n",
              "      <td>2015-11-10</td>\n",
              "      <td>EMS</td>\n",
              "      <td>DIABETIC EMERGENCY</td>\n",
              "      <td>1</td>\n",
              "      <td>...</td>\n",
              "      <td>1</td>\n",
              "      <td>0</td>\n",
              "      <td>0</td>\n",
              "      <td>0</td>\n",
              "      <td>0</td>\n",
              "      <td>0</td>\n",
              "      <td>0</td>\n",
              "      <td>0</td>\n",
              "      <td>1</td>\n",
              "      <td>0</td>\n",
              "    </tr>\n",
              "    <tr>\n",
              "      <th>2</th>\n",
              "      <td>5.633940</td>\n",
              "      <td>-0.174082</td>\n",
              "      <td>233.0</td>\n",
              "      <td>2015-11-10 14:39:00</td>\n",
              "      <td>shiashie</td>\n",
              "      <td>2015</td>\n",
              "      <td>2015-11-10</td>\n",
              "      <td>Fire</td>\n",
              "      <td>GAS-ODOR/LEAK</td>\n",
              "      <td>1</td>\n",
              "      <td>...</td>\n",
              "      <td>0</td>\n",
              "      <td>0</td>\n",
              "      <td>0</td>\n",
              "      <td>0</td>\n",
              "      <td>0</td>\n",
              "      <td>0</td>\n",
              "      <td>0</td>\n",
              "      <td>0</td>\n",
              "      <td>1</td>\n",
              "      <td>0</td>\n",
              "    </tr>\n",
              "    <tr>\n",
              "      <th>3</th>\n",
              "      <td>5.651038</td>\n",
              "      <td>-0.135459</td>\n",
              "      <td>233.0</td>\n",
              "      <td>2015-11-10 16:47:00</td>\n",
              "      <td>adjiringanor</td>\n",
              "      <td>2015</td>\n",
              "      <td>2015-11-10</td>\n",
              "      <td>EMS</td>\n",
              "      <td>CARDIAC EMERGENCY</td>\n",
              "      <td>1</td>\n",
              "      <td>...</td>\n",
              "      <td>1</td>\n",
              "      <td>0</td>\n",
              "      <td>0</td>\n",
              "      <td>0</td>\n",
              "      <td>0</td>\n",
              "      <td>0</td>\n",
              "      <td>0</td>\n",
              "      <td>0</td>\n",
              "      <td>1</td>\n",
              "      <td>0</td>\n",
              "    </tr>\n",
              "    <tr>\n",
              "      <th>4</th>\n",
              "      <td>5.652202</td>\n",
              "      <td>-0.188107</td>\n",
              "      <td>233.0</td>\n",
              "      <td>2015-11-10 16:56:00</td>\n",
              "      <td>university of ghana computing systems</td>\n",
              "      <td>2015</td>\n",
              "      <td>2015-11-10</td>\n",
              "      <td>EMS</td>\n",
              "      <td>DIZZINESS</td>\n",
              "      <td>1</td>\n",
              "      <td>...</td>\n",
              "      <td>1</td>\n",
              "      <td>0</td>\n",
              "      <td>0</td>\n",
              "      <td>0</td>\n",
              "      <td>0</td>\n",
              "      <td>0</td>\n",
              "      <td>0</td>\n",
              "      <td>0</td>\n",
              "      <td>1</td>\n",
              "      <td>0</td>\n",
              "    </tr>\n",
              "  </tbody>\n",
              "</table>\n",
              "<p>5 rows × 823 columns</p>\n",
              "</div>\n",
              "      <button class=\"colab-df-convert\" onclick=\"convertToInteractive('df-fa70aba9-026a-4dd9-b32b-db10463b9ea9')\"\n",
              "              title=\"Convert this dataframe to an interactive table.\"\n",
              "              style=\"display:none;\">\n",
              "        \n",
              "  <svg xmlns=\"http://www.w3.org/2000/svg\" height=\"24px\"viewBox=\"0 0 24 24\"\n",
              "       width=\"24px\">\n",
              "    <path d=\"M0 0h24v24H0V0z\" fill=\"none\"/>\n",
              "    <path d=\"M18.56 5.44l.94 2.06.94-2.06 2.06-.94-2.06-.94-.94-2.06-.94 2.06-2.06.94zm-11 1L8.5 8.5l.94-2.06 2.06-.94-2.06-.94L8.5 2.5l-.94 2.06-2.06.94zm10 10l.94 2.06.94-2.06 2.06-.94-2.06-.94-.94-2.06-.94 2.06-2.06.94z\"/><path d=\"M17.41 7.96l-1.37-1.37c-.4-.4-.92-.59-1.43-.59-.52 0-1.04.2-1.43.59L10.3 9.45l-7.72 7.72c-.78.78-.78 2.05 0 2.83L4 21.41c.39.39.9.59 1.41.59.51 0 1.02-.2 1.41-.59l7.78-7.78 2.81-2.81c.8-.78.8-2.07 0-2.86zM5.41 20L4 18.59l7.72-7.72 1.47 1.35L5.41 20z\"/>\n",
              "  </svg>\n",
              "      </button>\n",
              "      \n",
              "  <style>\n",
              "    .colab-df-container {\n",
              "      display:flex;\n",
              "      flex-wrap:wrap;\n",
              "      gap: 12px;\n",
              "    }\n",
              "\n",
              "    .colab-df-convert {\n",
              "      background-color: #E8F0FE;\n",
              "      border: none;\n",
              "      border-radius: 50%;\n",
              "      cursor: pointer;\n",
              "      display: none;\n",
              "      fill: #1967D2;\n",
              "      height: 32px;\n",
              "      padding: 0 0 0 0;\n",
              "      width: 32px;\n",
              "    }\n",
              "\n",
              "    .colab-df-convert:hover {\n",
              "      background-color: #E2EBFA;\n",
              "      box-shadow: 0px 1px 2px rgba(60, 64, 67, 0.3), 0px 1px 3px 1px rgba(60, 64, 67, 0.15);\n",
              "      fill: #174EA6;\n",
              "    }\n",
              "\n",
              "    [theme=dark] .colab-df-convert {\n",
              "      background-color: #3B4455;\n",
              "      fill: #D2E3FC;\n",
              "    }\n",
              "\n",
              "    [theme=dark] .colab-df-convert:hover {\n",
              "      background-color: #434B5C;\n",
              "      box-shadow: 0px 1px 3px 1px rgba(0, 0, 0, 0.15);\n",
              "      filter: drop-shadow(0px 1px 2px rgba(0, 0, 0, 0.3));\n",
              "      fill: #FFFFFF;\n",
              "    }\n",
              "  </style>\n",
              "\n",
              "      <script>\n",
              "        const buttonEl =\n",
              "          document.querySelector('#df-fa70aba9-026a-4dd9-b32b-db10463b9ea9 button.colab-df-convert');\n",
              "        buttonEl.style.display =\n",
              "          google.colab.kernel.accessAllowed ? 'block' : 'none';\n",
              "\n",
              "        async function convertToInteractive(key) {\n",
              "          const element = document.querySelector('#df-fa70aba9-026a-4dd9-b32b-db10463b9ea9');\n",
              "          const dataTable =\n",
              "            await google.colab.kernel.invokeFunction('convertToInteractive',\n",
              "                                                     [key], {});\n",
              "          if (!dataTable) return;\n",
              "\n",
              "          const docLinkHtml = 'Like what you see? Visit the ' +\n",
              "            '<a target=\"_blank\" href=https://colab.research.google.com/notebooks/data_table.ipynb>data table notebook</a>'\n",
              "            + ' to learn more about interactive tables.';\n",
              "          element.innerHTML = '';\n",
              "          dataTable['output_type'] = 'display_data';\n",
              "          await google.colab.output.renderOutput(dataTable, element);\n",
              "          const docLink = document.createElement('div');\n",
              "          docLink.innerHTML = docLinkHtml;\n",
              "          element.appendChild(docLink);\n",
              "        }\n",
              "      </script>\n",
              "    </div>\n",
              "  </div>\n",
              "  "
            ]
          },
          "metadata": {},
          "execution_count": 50
        }
      ],
      "source": [
        "days=df['Day'].unique().tolist()\n",
        "one_hot = pd.get_dummies(df['Day'])\n",
        "df.drop('Day', inplace=True, axis=1)\n",
        "df = df.join(one_hot)\n",
        "df.head()"
      ]
    },
    {
      "cell_type": "code",
      "execution_count": 51,
      "metadata": {
        "id": "pIwA8QMvGZ7-"
      },
      "outputs": [],
      "source": [
        "df=df.drop(['timeStamp', 'Type', 'zip','Reason'], axis=1)"
      ]
    },
    {
      "cell_type": "code",
      "execution_count": 52,
      "metadata": {
        "id": "jkEgo8wZH6v0"
      },
      "outputs": [],
      "source": [
        "df=df.drop(['lat','lng'], axis=1)"
      ]
    },
    {
      "cell_type": "code",
      "execution_count": 53,
      "metadata": {
        "id": "KMUWomQFN_IZ"
      },
      "outputs": [],
      "source": [
        "df_new=df.drop(['addr','Year','Date'], axis=1)"
      ]
    },
    {
      "cell_type": "code",
      "execution_count": 54,
      "metadata": {
        "colab": {
          "base_uri": "https://localhost:8080/",
          "height": 317
        },
        "id": "g7g7jgzYHx99",
        "outputId": "35774467-e34c-4585-d9d5-7fcd75bfb4af"
      },
      "outputs": [
        {
          "output_type": "execute_result",
          "data": {
            "text/plain": [
              "   Others  A Medua  ABINGTON  Abakrampa  Abandze  Abawso  Abease  Abenase  \\\n",
              "0       1        0         0          0        0       0       0        0   \n",
              "1       1        0         0          0        0       0       0        0   \n",
              "2       1        0         0          0        0       0       0        0   \n",
              "3       1        0         0          0        0       0       0        0   \n",
              "4       1        0         0          0        0       0       0        0   \n",
              "\n",
              "   Aberin  Abesim  ...  Evening  Morning  Night  Fri  Mon  Sat  Sun  Thu  Tue  \\\n",
              "0       0       0  ...        0        0      0    0    0    0    0    0    1   \n",
              "1       0       0  ...        1        0      0    0    0    0    0    0    1   \n",
              "2       0       0  ...        0        0      0    0    0    0    0    0    1   \n",
              "3       0       0  ...        1        0      0    0    0    0    0    0    1   \n",
              "4       0       0  ...        1        0      0    0    0    0    0    0    1   \n",
              "\n",
              "   Wed  \n",
              "0    0  \n",
              "1    0  \n",
              "2    0  \n",
              "3    0  \n",
              "4    0  \n",
              "\n",
              "[5 rows x 814 columns]"
            ],
            "text/html": [
              "\n",
              "  <div id=\"df-a7898f61-b503-4446-8715-4c2fa59263da\">\n",
              "    <div class=\"colab-df-container\">\n",
              "      <div>\n",
              "<style scoped>\n",
              "    .dataframe tbody tr th:only-of-type {\n",
              "        vertical-align: middle;\n",
              "    }\n",
              "\n",
              "    .dataframe tbody tr th {\n",
              "        vertical-align: top;\n",
              "    }\n",
              "\n",
              "    .dataframe thead th {\n",
              "        text-align: right;\n",
              "    }\n",
              "</style>\n",
              "<table border=\"1\" class=\"dataframe\">\n",
              "  <thead>\n",
              "    <tr style=\"text-align: right;\">\n",
              "      <th></th>\n",
              "      <th>Others</th>\n",
              "      <th>A Medua</th>\n",
              "      <th>ABINGTON</th>\n",
              "      <th>Abakrampa</th>\n",
              "      <th>Abandze</th>\n",
              "      <th>Abawso</th>\n",
              "      <th>Abease</th>\n",
              "      <th>Abenase</th>\n",
              "      <th>Aberin</th>\n",
              "      <th>Abesim</th>\n",
              "      <th>...</th>\n",
              "      <th>Evening</th>\n",
              "      <th>Morning</th>\n",
              "      <th>Night</th>\n",
              "      <th>Fri</th>\n",
              "      <th>Mon</th>\n",
              "      <th>Sat</th>\n",
              "      <th>Sun</th>\n",
              "      <th>Thu</th>\n",
              "      <th>Tue</th>\n",
              "      <th>Wed</th>\n",
              "    </tr>\n",
              "  </thead>\n",
              "  <tbody>\n",
              "    <tr>\n",
              "      <th>0</th>\n",
              "      <td>1</td>\n",
              "      <td>0</td>\n",
              "      <td>0</td>\n",
              "      <td>0</td>\n",
              "      <td>0</td>\n",
              "      <td>0</td>\n",
              "      <td>0</td>\n",
              "      <td>0</td>\n",
              "      <td>0</td>\n",
              "      <td>0</td>\n",
              "      <td>...</td>\n",
              "      <td>0</td>\n",
              "      <td>0</td>\n",
              "      <td>0</td>\n",
              "      <td>0</td>\n",
              "      <td>0</td>\n",
              "      <td>0</td>\n",
              "      <td>0</td>\n",
              "      <td>0</td>\n",
              "      <td>1</td>\n",
              "      <td>0</td>\n",
              "    </tr>\n",
              "    <tr>\n",
              "      <th>1</th>\n",
              "      <td>1</td>\n",
              "      <td>0</td>\n",
              "      <td>0</td>\n",
              "      <td>0</td>\n",
              "      <td>0</td>\n",
              "      <td>0</td>\n",
              "      <td>0</td>\n",
              "      <td>0</td>\n",
              "      <td>0</td>\n",
              "      <td>0</td>\n",
              "      <td>...</td>\n",
              "      <td>1</td>\n",
              "      <td>0</td>\n",
              "      <td>0</td>\n",
              "      <td>0</td>\n",
              "      <td>0</td>\n",
              "      <td>0</td>\n",
              "      <td>0</td>\n",
              "      <td>0</td>\n",
              "      <td>1</td>\n",
              "      <td>0</td>\n",
              "    </tr>\n",
              "    <tr>\n",
              "      <th>2</th>\n",
              "      <td>1</td>\n",
              "      <td>0</td>\n",
              "      <td>0</td>\n",
              "      <td>0</td>\n",
              "      <td>0</td>\n",
              "      <td>0</td>\n",
              "      <td>0</td>\n",
              "      <td>0</td>\n",
              "      <td>0</td>\n",
              "      <td>0</td>\n",
              "      <td>...</td>\n",
              "      <td>0</td>\n",
              "      <td>0</td>\n",
              "      <td>0</td>\n",
              "      <td>0</td>\n",
              "      <td>0</td>\n",
              "      <td>0</td>\n",
              "      <td>0</td>\n",
              "      <td>0</td>\n",
              "      <td>1</td>\n",
              "      <td>0</td>\n",
              "    </tr>\n",
              "    <tr>\n",
              "      <th>3</th>\n",
              "      <td>1</td>\n",
              "      <td>0</td>\n",
              "      <td>0</td>\n",
              "      <td>0</td>\n",
              "      <td>0</td>\n",
              "      <td>0</td>\n",
              "      <td>0</td>\n",
              "      <td>0</td>\n",
              "      <td>0</td>\n",
              "      <td>0</td>\n",
              "      <td>...</td>\n",
              "      <td>1</td>\n",
              "      <td>0</td>\n",
              "      <td>0</td>\n",
              "      <td>0</td>\n",
              "      <td>0</td>\n",
              "      <td>0</td>\n",
              "      <td>0</td>\n",
              "      <td>0</td>\n",
              "      <td>1</td>\n",
              "      <td>0</td>\n",
              "    </tr>\n",
              "    <tr>\n",
              "      <th>4</th>\n",
              "      <td>1</td>\n",
              "      <td>0</td>\n",
              "      <td>0</td>\n",
              "      <td>0</td>\n",
              "      <td>0</td>\n",
              "      <td>0</td>\n",
              "      <td>0</td>\n",
              "      <td>0</td>\n",
              "      <td>0</td>\n",
              "      <td>0</td>\n",
              "      <td>...</td>\n",
              "      <td>1</td>\n",
              "      <td>0</td>\n",
              "      <td>0</td>\n",
              "      <td>0</td>\n",
              "      <td>0</td>\n",
              "      <td>0</td>\n",
              "      <td>0</td>\n",
              "      <td>0</td>\n",
              "      <td>1</td>\n",
              "      <td>0</td>\n",
              "    </tr>\n",
              "  </tbody>\n",
              "</table>\n",
              "<p>5 rows × 814 columns</p>\n",
              "</div>\n",
              "      <button class=\"colab-df-convert\" onclick=\"convertToInteractive('df-a7898f61-b503-4446-8715-4c2fa59263da')\"\n",
              "              title=\"Convert this dataframe to an interactive table.\"\n",
              "              style=\"display:none;\">\n",
              "        \n",
              "  <svg xmlns=\"http://www.w3.org/2000/svg\" height=\"24px\"viewBox=\"0 0 24 24\"\n",
              "       width=\"24px\">\n",
              "    <path d=\"M0 0h24v24H0V0z\" fill=\"none\"/>\n",
              "    <path d=\"M18.56 5.44l.94 2.06.94-2.06 2.06-.94-2.06-.94-.94-2.06-.94 2.06-2.06.94zm-11 1L8.5 8.5l.94-2.06 2.06-.94-2.06-.94L8.5 2.5l-.94 2.06-2.06.94zm10 10l.94 2.06.94-2.06 2.06-.94-2.06-.94-.94-2.06-.94 2.06-2.06.94z\"/><path d=\"M17.41 7.96l-1.37-1.37c-.4-.4-.92-.59-1.43-.59-.52 0-1.04.2-1.43.59L10.3 9.45l-7.72 7.72c-.78.78-.78 2.05 0 2.83L4 21.41c.39.39.9.59 1.41.59.51 0 1.02-.2 1.41-.59l7.78-7.78 2.81-2.81c.8-.78.8-2.07 0-2.86zM5.41 20L4 18.59l7.72-7.72 1.47 1.35L5.41 20z\"/>\n",
              "  </svg>\n",
              "      </button>\n",
              "      \n",
              "  <style>\n",
              "    .colab-df-container {\n",
              "      display:flex;\n",
              "      flex-wrap:wrap;\n",
              "      gap: 12px;\n",
              "    }\n",
              "\n",
              "    .colab-df-convert {\n",
              "      background-color: #E8F0FE;\n",
              "      border: none;\n",
              "      border-radius: 50%;\n",
              "      cursor: pointer;\n",
              "      display: none;\n",
              "      fill: #1967D2;\n",
              "      height: 32px;\n",
              "      padding: 0 0 0 0;\n",
              "      width: 32px;\n",
              "    }\n",
              "\n",
              "    .colab-df-convert:hover {\n",
              "      background-color: #E2EBFA;\n",
              "      box-shadow: 0px 1px 2px rgba(60, 64, 67, 0.3), 0px 1px 3px 1px rgba(60, 64, 67, 0.15);\n",
              "      fill: #174EA6;\n",
              "    }\n",
              "\n",
              "    [theme=dark] .colab-df-convert {\n",
              "      background-color: #3B4455;\n",
              "      fill: #D2E3FC;\n",
              "    }\n",
              "\n",
              "    [theme=dark] .colab-df-convert:hover {\n",
              "      background-color: #434B5C;\n",
              "      box-shadow: 0px 1px 3px 1px rgba(0, 0, 0, 0.15);\n",
              "      filter: drop-shadow(0px 1px 2px rgba(0, 0, 0, 0.3));\n",
              "      fill: #FFFFFF;\n",
              "    }\n",
              "  </style>\n",
              "\n",
              "      <script>\n",
              "        const buttonEl =\n",
              "          document.querySelector('#df-a7898f61-b503-4446-8715-4c2fa59263da button.colab-df-convert');\n",
              "        buttonEl.style.display =\n",
              "          google.colab.kernel.accessAllowed ? 'block' : 'none';\n",
              "\n",
              "        async function convertToInteractive(key) {\n",
              "          const element = document.querySelector('#df-a7898f61-b503-4446-8715-4c2fa59263da');\n",
              "          const dataTable =\n",
              "            await google.colab.kernel.invokeFunction('convertToInteractive',\n",
              "                                                     [key], {});\n",
              "          if (!dataTable) return;\n",
              "\n",
              "          const docLinkHtml = 'Like what you see? Visit the ' +\n",
              "            '<a target=\"_blank\" href=https://colab.research.google.com/notebooks/data_table.ipynb>data table notebook</a>'\n",
              "            + ' to learn more about interactive tables.';\n",
              "          element.innerHTML = '';\n",
              "          dataTable['output_type'] = 'display_data';\n",
              "          await google.colab.output.renderOutput(dataTable, element);\n",
              "          const docLink = document.createElement('div');\n",
              "          docLink.innerHTML = docLinkHtml;\n",
              "          element.appendChild(docLink);\n",
              "        }\n",
              "      </script>\n",
              "    </div>\n",
              "  </div>\n",
              "  "
            ]
          },
          "metadata": {},
          "execution_count": 54
        }
      ],
      "source": [
        "df_new.head()"
      ]
    },
    {
      "cell_type": "markdown",
      "metadata": {
        "id": "x8EkB0IXENoF"
      },
      "source": [
        "## **Apply** **Algorithm**"
      ]
    },
    {
      "cell_type": "code",
      "execution_count": 55,
      "metadata": {
        "id": "TZOYsv1bIO76"
      },
      "outputs": [],
      "source": [
        "from mlxtend.frequent_patterns import apriori, association_rules"
      ]
    },
    {
      "cell_type": "code",
      "execution_count": 56,
      "metadata": {
        "colab": {
          "base_uri": "https://localhost:8080/"
        },
        "id": "ej1fRIetNUQw",
        "outputId": "845bfce1-d0d6-4324-d68e-09b46b2097f3"
      },
      "outputs": [
        {
          "output_type": "stream",
          "name": "stderr",
          "text": [
            "/usr/local/lib/python3.7/dist-packages/mlxtend/frequent_patterns/fpcommon.py:115: DeprecationWarning: DataFrames with non-bool types result in worse computationalperformance and their support might be discontinued in the future.Please use a DataFrame with bool type\n",
            "  DeprecationWarning,\n",
            "/usr/local/lib/python3.7/dist-packages/mlxtend/frequent_patterns/fpcommon.py:115: DeprecationWarning: DataFrames with non-bool types result in worse computationalperformance and their support might be discontinued in the future.Please use a DataFrame with bool type\n",
            "  DeprecationWarning,\n",
            "/usr/local/lib/python3.7/dist-packages/mlxtend/frequent_patterns/fpcommon.py:115: DeprecationWarning: DataFrames with non-bool types result in worse computationalperformance and their support might be discontinued in the future.Please use a DataFrame with bool type\n",
            "  DeprecationWarning,\n",
            "/usr/local/lib/python3.7/dist-packages/mlxtend/frequent_patterns/fpcommon.py:115: DeprecationWarning: DataFrames with non-bool types result in worse computationalperformance and their support might be discontinued in the future.Please use a DataFrame with bool type\n",
            "  DeprecationWarning,\n",
            "/usr/local/lib/python3.7/dist-packages/mlxtend/frequent_patterns/fpcommon.py:115: DeprecationWarning: DataFrames with non-bool types result in worse computationalperformance and their support might be discontinued in the future.Please use a DataFrame with bool type\n",
            "  DeprecationWarning,\n",
            "/usr/local/lib/python3.7/dist-packages/mlxtend/frequent_patterns/fpcommon.py:115: DeprecationWarning: DataFrames with non-bool types result in worse computationalperformance and their support might be discontinued in the future.Please use a DataFrame with bool type\n",
            "  DeprecationWarning,\n",
            "/usr/local/lib/python3.7/dist-packages/mlxtend/frequent_patterns/fpcommon.py:115: DeprecationWarning: DataFrames with non-bool types result in worse computationalperformance and their support might be discontinued in the future.Please use a DataFrame with bool type\n",
            "  DeprecationWarning,\n",
            "/usr/local/lib/python3.7/dist-packages/mlxtend/frequent_patterns/fpcommon.py:115: DeprecationWarning: DataFrames with non-bool types result in worse computationalperformance and their support might be discontinued in the future.Please use a DataFrame with bool type\n",
            "  DeprecationWarning,\n",
            "/usr/local/lib/python3.7/dist-packages/mlxtend/frequent_patterns/fpcommon.py:115: DeprecationWarning: DataFrames with non-bool types result in worse computationalperformance and their support might be discontinued in the future.Please use a DataFrame with bool type\n",
            "  DeprecationWarning,\n",
            "/usr/local/lib/python3.7/dist-packages/mlxtend/frequent_patterns/fpcommon.py:115: DeprecationWarning: DataFrames with non-bool types result in worse computationalperformance and their support might be discontinued in the future.Please use a DataFrame with bool type\n",
            "  DeprecationWarning,\n",
            "/usr/local/lib/python3.7/dist-packages/mlxtend/frequent_patterns/fpcommon.py:115: DeprecationWarning: DataFrames with non-bool types result in worse computationalperformance and their support might be discontinued in the future.Please use a DataFrame with bool type\n",
            "  DeprecationWarning,\n",
            "/usr/local/lib/python3.7/dist-packages/mlxtend/frequent_patterns/fpcommon.py:115: DeprecationWarning: DataFrames with non-bool types result in worse computationalperformance and their support might be discontinued in the future.Please use a DataFrame with bool type\n",
            "  DeprecationWarning,\n",
            "/usr/local/lib/python3.7/dist-packages/mlxtend/frequent_patterns/fpcommon.py:115: DeprecationWarning: DataFrames with non-bool types result in worse computationalperformance and their support might be discontinued in the future.Please use a DataFrame with bool type\n",
            "  DeprecationWarning,\n",
            "/usr/local/lib/python3.7/dist-packages/mlxtend/frequent_patterns/fpcommon.py:115: DeprecationWarning: DataFrames with non-bool types result in worse computationalperformance and their support might be discontinued in the future.Please use a DataFrame with bool type\n",
            "  DeprecationWarning,\n",
            "/usr/local/lib/python3.7/dist-packages/mlxtend/frequent_patterns/fpcommon.py:115: DeprecationWarning: DataFrames with non-bool types result in worse computationalperformance and their support might be discontinued in the future.Please use a DataFrame with bool type\n",
            "  DeprecationWarning,\n",
            "/usr/local/lib/python3.7/dist-packages/mlxtend/frequent_patterns/fpcommon.py:115: DeprecationWarning: DataFrames with non-bool types result in worse computationalperformance and their support might be discontinued in the future.Please use a DataFrame with bool type\n",
            "  DeprecationWarning,\n",
            "/usr/local/lib/python3.7/dist-packages/mlxtend/frequent_patterns/fpcommon.py:115: DeprecationWarning: DataFrames with non-bool types result in worse computationalperformance and their support might be discontinued in the future.Please use a DataFrame with bool type\n",
            "  DeprecationWarning,\n",
            "/usr/local/lib/python3.7/dist-packages/mlxtend/frequent_patterns/fpcommon.py:115: DeprecationWarning: DataFrames with non-bool types result in worse computationalperformance and their support might be discontinued in the future.Please use a DataFrame with bool type\n",
            "  DeprecationWarning,\n",
            "/usr/local/lib/python3.7/dist-packages/mlxtend/frequent_patterns/fpcommon.py:115: DeprecationWarning: DataFrames with non-bool types result in worse computationalperformance and their support might be discontinued in the future.Please use a DataFrame with bool type\n",
            "  DeprecationWarning,\n",
            "/usr/local/lib/python3.7/dist-packages/mlxtend/frequent_patterns/fpcommon.py:115: DeprecationWarning: DataFrames with non-bool types result in worse computationalperformance and their support might be discontinued in the future.Please use a DataFrame with bool type\n",
            "  DeprecationWarning,\n",
            "/usr/local/lib/python3.7/dist-packages/mlxtend/frequent_patterns/fpcommon.py:115: DeprecationWarning: DataFrames with non-bool types result in worse computationalperformance and their support might be discontinued in the future.Please use a DataFrame with bool type\n",
            "  DeprecationWarning,\n",
            "/usr/local/lib/python3.7/dist-packages/mlxtend/frequent_patterns/fpcommon.py:115: DeprecationWarning: DataFrames with non-bool types result in worse computationalperformance and their support might be discontinued in the future.Please use a DataFrame with bool type\n",
            "  DeprecationWarning,\n",
            "/usr/local/lib/python3.7/dist-packages/mlxtend/frequent_patterns/fpcommon.py:115: DeprecationWarning: DataFrames with non-bool types result in worse computationalperformance and their support might be discontinued in the future.Please use a DataFrame with bool type\n",
            "  DeprecationWarning,\n",
            "/usr/local/lib/python3.7/dist-packages/mlxtend/frequent_patterns/fpcommon.py:115: DeprecationWarning: DataFrames with non-bool types result in worse computationalperformance and their support might be discontinued in the future.Please use a DataFrame with bool type\n",
            "  DeprecationWarning,\n",
            "/usr/local/lib/python3.7/dist-packages/mlxtend/frequent_patterns/fpcommon.py:115: DeprecationWarning: DataFrames with non-bool types result in worse computationalperformance and their support might be discontinued in the future.Please use a DataFrame with bool type\n",
            "  DeprecationWarning,\n",
            "/usr/local/lib/python3.7/dist-packages/mlxtend/frequent_patterns/fpcommon.py:115: DeprecationWarning: DataFrames with non-bool types result in worse computationalperformance and their support might be discontinued in the future.Please use a DataFrame with bool type\n",
            "  DeprecationWarning,\n",
            "/usr/local/lib/python3.7/dist-packages/mlxtend/frequent_patterns/fpcommon.py:115: DeprecationWarning: DataFrames with non-bool types result in worse computationalperformance and their support might be discontinued in the future.Please use a DataFrame with bool type\n",
            "  DeprecationWarning,\n",
            "/usr/local/lib/python3.7/dist-packages/mlxtend/frequent_patterns/fpcommon.py:115: DeprecationWarning: DataFrames with non-bool types result in worse computationalperformance and their support might be discontinued in the future.Please use a DataFrame with bool type\n",
            "  DeprecationWarning,\n",
            "/usr/local/lib/python3.7/dist-packages/mlxtend/frequent_patterns/fpcommon.py:115: DeprecationWarning: DataFrames with non-bool types result in worse computationalperformance and their support might be discontinued in the future.Please use a DataFrame with bool type\n",
            "  DeprecationWarning,\n",
            "/usr/local/lib/python3.7/dist-packages/mlxtend/frequent_patterns/fpcommon.py:115: DeprecationWarning: DataFrames with non-bool types result in worse computationalperformance and their support might be discontinued in the future.Please use a DataFrame with bool type\n",
            "  DeprecationWarning,\n",
            "/usr/local/lib/python3.7/dist-packages/mlxtend/frequent_patterns/fpcommon.py:115: DeprecationWarning: DataFrames with non-bool types result in worse computationalperformance and their support might be discontinued in the future.Please use a DataFrame with bool type\n",
            "  DeprecationWarning,\n",
            "/usr/local/lib/python3.7/dist-packages/mlxtend/frequent_patterns/fpcommon.py:115: DeprecationWarning: DataFrames with non-bool types result in worse computationalperformance and their support might be discontinued in the future.Please use a DataFrame with bool type\n",
            "  DeprecationWarning,\n",
            "/usr/local/lib/python3.7/dist-packages/mlxtend/frequent_patterns/fpcommon.py:115: DeprecationWarning: DataFrames with non-bool types result in worse computationalperformance and their support might be discontinued in the future.Please use a DataFrame with bool type\n",
            "  DeprecationWarning,\n",
            "/usr/local/lib/python3.7/dist-packages/mlxtend/frequent_patterns/fpcommon.py:115: DeprecationWarning: DataFrames with non-bool types result in worse computationalperformance and their support might be discontinued in the future.Please use a DataFrame with bool type\n",
            "  DeprecationWarning,\n",
            "/usr/local/lib/python3.7/dist-packages/mlxtend/frequent_patterns/fpcommon.py:115: DeprecationWarning: DataFrames with non-bool types result in worse computationalperformance and their support might be discontinued in the future.Please use a DataFrame with bool type\n",
            "  DeprecationWarning,\n",
            "/usr/local/lib/python3.7/dist-packages/mlxtend/frequent_patterns/fpcommon.py:115: DeprecationWarning: DataFrames with non-bool types result in worse computationalperformance and their support might be discontinued in the future.Please use a DataFrame with bool type\n",
            "  DeprecationWarning,\n"
          ]
        }
      ],
      "source": [
        "ap_0_5 = {}\n",
        "ap_1 = {}\n",
        "ap_5 = {}\n",
        "ap_1_0 = {}\n",
        "\n",
        "confidence = [0.1,0.2,0.3,0.4,0.5,0.6,0.7,0.8,0.9]\n",
        "\n",
        "def gen_rules(df,confidence,support):\n",
        "    ap = {}\n",
        "    for i in confidence:\n",
        "        ap_i =apriori(df_new,support,True)#, low_memory=True)\n",
        "        rule= association_rules(ap_i,min_threshold=i)\n",
        "        ap[i] = len(rule.antecedents)\n",
        "    return pd.Series(ap).to_frame(\"Support: %s\"%support)\n",
        "\n",
        "confs = []\n",
        "for i in [0.005,0.01,0.05,0.1]:\n",
        "    ap_i = gen_rules(df_new,confidence=confidence,support=i)\n",
        "    confs.append(ap_i)\n",
        "\n",
        "all_conf = pd.concat(confs,axis=1)"
      ]
    },
    {
      "cell_type": "code",
      "execution_count": 57,
      "metadata": {
        "colab": {
          "base_uri": "https://localhost:8080/",
          "height": 497
        },
        "id": "SumT3AbyTQXe",
        "outputId": "3894e68b-61d8-4723-990c-a16b21093561"
      },
      "outputs": [
        {
          "output_type": "display_data",
          "data": {
            "text/plain": [
              "<Figure size 576x576 with 1 Axes>"
            ],
            "image/png": "[encoded data removed]"
          },
          "metadata": {
            "needs_background": "light"
          }
        }
      ],
      "source": [
        "all_conf.plot(figsize=(8,8),grid=True)\n",
        "plt.ylabel('Rules')\n",
        "plt.xlabel('Confidence')\n",
        "plt.show()"
      ]
    },
    {
      "cell_type": "code",
      "execution_count": 58,
      "metadata": {
        "id": "fO89opLlA-9-",
        "colab": {
          "base_uri": "https://localhost:8080/",
          "height": 311
        },
        "outputId": "318b5fdf-30bf-41f3-b47e-7e47e664c7f5"
      },
      "outputs": [
        {
          "output_type": "error",
          "ename": "KeyError",
          "evalue": "ignored",
          "traceback": [
            "\u001b[0;31m---------------------------------------------------------------------------\u001b[0m",
            "\u001b[0;31mKeyError\u001b[0m                                  Traceback (most recent call last)",
            "\u001b[0;32m<ipython-input-58-a653bc926b81>\u001b[0m in \u001b[0;36m<module>\u001b[0;34m\u001b[0m\n\u001b[0;32m----> 1\u001b[0;31m \u001b[0mdf_new\u001b[0m\u001b[0;34m.\u001b[0m\u001b[0mdrop\u001b[0m\u001b[0;34m(\u001b[0m\u001b[0;34m[\u001b[0m\u001b[0;34m'Traffic: VEHICLE ACCIDENT -'\u001b[0m\u001b[0;34m]\u001b[0m\u001b[0;34m,\u001b[0m\u001b[0maxis\u001b[0m\u001b[0;34m=\u001b[0m\u001b[0;36m1\u001b[0m\u001b[0;34m,\u001b[0m\u001b[0minplace\u001b[0m\u001b[0;34m=\u001b[0m\u001b[0;32mTrue\u001b[0m\u001b[0;34m)\u001b[0m\u001b[0;34m\u001b[0m\u001b[0;34m\u001b[0m\u001b[0m\n\u001b[0m",
            "\u001b[0;32m/usr/local/lib/python3.7/dist-packages/pandas/util/_decorators.py\u001b[0m in \u001b[0;36mwrapper\u001b[0;34m(*args, **kwargs)\u001b[0m\n\u001b[1;32m    309\u001b[0m                     \u001b[0mstacklevel\u001b[0m\u001b[0;34m=\u001b[0m\u001b[0mstacklevel\u001b[0m\u001b[0;34m,\u001b[0m\u001b[0;34m\u001b[0m\u001b[0;34m\u001b[0m\u001b[0m\n\u001b[1;32m    310\u001b[0m                 )\n\u001b[0;32m--> 311\u001b[0;31m             \u001b[0;32mreturn\u001b[0m \u001b[0mfunc\u001b[0m\u001b[0;34m(\u001b[0m\u001b[0;34m*\u001b[0m\u001b[0margs\u001b[0m\u001b[0;34m,\u001b[0m \u001b[0;34m**\u001b[0m\u001b[0mkwargs\u001b[0m\u001b[0;34m)\u001b[0m\u001b[0;34m\u001b[0m\u001b[0;34m\u001b[0m\u001b[0m\n\u001b[0m\u001b[1;32m    312\u001b[0m \u001b[0;34m\u001b[0m\u001b[0m\n\u001b[1;32m    313\u001b[0m         \u001b[0;32mreturn\u001b[0m \u001b[0mwrapper\u001b[0m\u001b[0;34m\u001b[0m\u001b[0;34m\u001b[0m\u001b[0m\n",
            "\u001b[0;32m/usr/local/lib/python3.7/dist-packages/pandas/core/frame.py\u001b[0m in \u001b[0;36mdrop\u001b[0;34m(self, labels, axis, index, columns, level, inplace, errors)\u001b[0m\n\u001b[1;32m   4911\u001b[0m             \u001b[0mlevel\u001b[0m\u001b[0;34m=\u001b[0m\u001b[0mlevel\u001b[0m\u001b[0;34m,\u001b[0m\u001b[0;34m\u001b[0m\u001b[0;34m\u001b[0m\u001b[0m\n\u001b[1;32m   4912\u001b[0m             \u001b[0minplace\u001b[0m\u001b[0;34m=\u001b[0m\u001b[0minplace\u001b[0m\u001b[0;34m,\u001b[0m\u001b[0;34m\u001b[0m\u001b[0;34m\u001b[0m\u001b[0m\n\u001b[0;32m-> 4913\u001b[0;31m             \u001b[0merrors\u001b[0m\u001b[0;34m=\u001b[0m\u001b[0merrors\u001b[0m\u001b[0;34m,\u001b[0m\u001b[0;34m\u001b[0m\u001b[0;34m\u001b[0m\u001b[0m\n\u001b[0m\u001b[1;32m   4914\u001b[0m         )\n\u001b[1;32m   4915\u001b[0m \u001b[0;34m\u001b[0m\u001b[0m\n",
            "\u001b[0;32m/usr/local/lib/python3.7/dist-packages/pandas/core/generic.py\u001b[0m in \u001b[0;36mdrop\u001b[0;34m(self, labels, axis, index, columns, level, inplace, errors)\u001b[0m\n\u001b[1;32m   4148\u001b[0m         \u001b[0;32mfor\u001b[0m \u001b[0maxis\u001b[0m\u001b[0;34m,\u001b[0m \u001b[0mlabels\u001b[0m \u001b[0;32min\u001b[0m \u001b[0maxes\u001b[0m\u001b[0;34m.\u001b[0m\u001b[0mitems\u001b[0m\u001b[0;34m(\u001b[0m\u001b[0;34m)\u001b[0m\u001b[0;34m:\u001b[0m\u001b[0;34m\u001b[0m\u001b[0;34m\u001b[0m\u001b[0m\n\u001b[1;32m   4149\u001b[0m             \u001b[0;32mif\u001b[0m \u001b[0mlabels\u001b[0m \u001b[0;32mis\u001b[0m \u001b[0;32mnot\u001b[0m \u001b[0;32mNone\u001b[0m\u001b[0;34m:\u001b[0m\u001b[0;34m\u001b[0m\u001b[0;34m\u001b[0m\u001b[0m\n\u001b[0;32m-> 4150\u001b[0;31m                 \u001b[0mobj\u001b[0m \u001b[0;34m=\u001b[0m \u001b[0mobj\u001b[0m\u001b[0;34m.\u001b[0m\u001b[0m_drop_axis\u001b[0m\u001b[0;34m(\u001b[0m\u001b[0mlabels\u001b[0m\u001b[0;34m,\u001b[0m \u001b[0maxis\u001b[0m\u001b[0;34m,\u001b[0m \u001b[0mlevel\u001b[0m\u001b[0;34m=\u001b[0m\u001b[0mlevel\u001b[0m\u001b[0;34m,\u001b[0m \u001b[0merrors\u001b[0m\u001b[0;34m=\u001b[0m\u001b[0merrors\u001b[0m\u001b[0;34m)\u001b[0m\u001b[0;34m\u001b[0m\u001b[0;34m\u001b[0m\u001b[0m\n\u001b[0m\u001b[1;32m   4151\u001b[0m \u001b[0;34m\u001b[0m\u001b[0m\n\u001b[1;32m   4152\u001b[0m         \u001b[0;32mif\u001b[0m \u001b[0minplace\u001b[0m\u001b[0;34m:\u001b[0m\u001b[0;34m\u001b[0m\u001b[0;34m\u001b[0m\u001b[0m\n",
            "\u001b[0;32m/usr/local/lib/python3.7/dist-packages/pandas/core/generic.py\u001b[0m in \u001b[0;36m_drop_axis\u001b[0;34m(self, labels, axis, level, errors)\u001b[0m\n\u001b[1;32m   4183\u001b[0m                 \u001b[0mnew_axis\u001b[0m \u001b[0;34m=\u001b[0m \u001b[0maxis\u001b[0m\u001b[0;34m.\u001b[0m\u001b[0mdrop\u001b[0m\u001b[0;34m(\u001b[0m\u001b[0mlabels\u001b[0m\u001b[0;34m,\u001b[0m \u001b[0mlevel\u001b[0m\u001b[0;34m=\u001b[0m\u001b[0mlevel\u001b[0m\u001b[0;34m,\u001b[0m \u001b[0merrors\u001b[0m\u001b[0;34m=\u001b[0m\u001b[0merrors\u001b[0m\u001b[0;34m)\u001b[0m\u001b[0;34m\u001b[0m\u001b[0;34m\u001b[0m\u001b[0m\n\u001b[1;32m   4184\u001b[0m             \u001b[0;32melse\u001b[0m\u001b[0;34m:\u001b[0m\u001b[0;34m\u001b[0m\u001b[0;34m\u001b[0m\u001b[0m\n\u001b[0;32m-> 4185\u001b[0;31m                 \u001b[0mnew_axis\u001b[0m \u001b[0;34m=\u001b[0m \u001b[0maxis\u001b[0m\u001b[0;34m.\u001b[0m\u001b[0mdrop\u001b[0m\u001b[0;34m(\u001b[0m\u001b[0mlabels\u001b[0m\u001b[0;34m,\u001b[0m \u001b[0merrors\u001b[0m\u001b[0;34m=\u001b[0m\u001b[0merrors\u001b[0m\u001b[0;34m)\u001b[0m\u001b[0;34m\u001b[0m\u001b[0;34m\u001b[0m\u001b[0m\n\u001b[0m\u001b[1;32m   4186\u001b[0m             \u001b[0mresult\u001b[0m \u001b[0;34m=\u001b[0m \u001b[0mself\u001b[0m\u001b[0;34m.\u001b[0m\u001b[0mreindex\u001b[0m\u001b[0;34m(\u001b[0m\u001b[0;34m**\u001b[0m\u001b[0;34m{\u001b[0m\u001b[0maxis_name\u001b[0m\u001b[0;34m:\u001b[0m \u001b[0mnew_axis\u001b[0m\u001b[0;34m}\u001b[0m\u001b[0;34m)\u001b[0m\u001b[0;34m\u001b[0m\u001b[0;34m\u001b[0m\u001b[0m\n\u001b[1;32m   4187\u001b[0m \u001b[0;34m\u001b[0m\u001b[0m\n",
            "\u001b[0;32m/usr/local/lib/python3.7/dist-packages/pandas/core/indexes/base.py\u001b[0m in \u001b[0;36mdrop\u001b[0;34m(self, labels, errors)\u001b[0m\n\u001b[1;32m   6015\u001b[0m         \u001b[0;32mif\u001b[0m \u001b[0mmask\u001b[0m\u001b[0;34m.\u001b[0m\u001b[0many\u001b[0m\u001b[0;34m(\u001b[0m\u001b[0;34m)\u001b[0m\u001b[0;34m:\u001b[0m\u001b[0;34m\u001b[0m\u001b[0;34m\u001b[0m\u001b[0m\n\u001b[1;32m   6016\u001b[0m             \u001b[0;32mif\u001b[0m \u001b[0merrors\u001b[0m \u001b[0;34m!=\u001b[0m \u001b[0;34m\"ignore\"\u001b[0m\u001b[0;34m:\u001b[0m\u001b[0;34m\u001b[0m\u001b[0;34m\u001b[0m\u001b[0m\n\u001b[0;32m-> 6017\u001b[0;31m                 \u001b[0;32mraise\u001b[0m \u001b[0mKeyError\u001b[0m\u001b[0;34m(\u001b[0m\u001b[0;34mf\"{labels[mask]} not found in axis\"\u001b[0m\u001b[0;34m)\u001b[0m\u001b[0;34m\u001b[0m\u001b[0;34m\u001b[0m\u001b[0m\n\u001b[0m\u001b[1;32m   6018\u001b[0m             \u001b[0mindexer\u001b[0m \u001b[0;34m=\u001b[0m \u001b[0mindexer\u001b[0m\u001b[0;34m[\u001b[0m\u001b[0;34m~\u001b[0m\u001b[0mmask\u001b[0m\u001b[0;34m]\u001b[0m\u001b[0;34m\u001b[0m\u001b[0;34m\u001b[0m\u001b[0m\n\u001b[1;32m   6019\u001b[0m         \u001b[0;32mreturn\u001b[0m \u001b[0mself\u001b[0m\u001b[0;34m.\u001b[0m\u001b[0mdelete\u001b[0m\u001b[0;34m(\u001b[0m\u001b[0mindexer\u001b[0m\u001b[0;34m)\u001b[0m\u001b[0;34m\u001b[0m\u001b[0;34m\u001b[0m\u001b[0m\n",
            "\u001b[0;31mKeyError\u001b[0m: \"['Traffic: VEHICLE ACCIDENT -'] not found in axis\""
          ]
        }
      ],
      "source": [
        "df_new.drop(['Traffic: VEHICLE ACCIDENT -'],axis=1,inplace=True)"
      ]
    },
    {
      "cell_type": "code",
      "execution_count": null,
      "metadata": {
        "id": "fg6FSn-BBESg"
      },
      "outputs": [],
      "source": [
        "import time\n",
        "\n",
        "start_time=time.time()\n",
        "frq_items = apriori(df_new, min_support = 0.005, use_colnames = True)#, low_memory=True) \n",
        "rules = association_rules(frq_items, metric =\"lift\", min_threshold = 0.03) \n",
        "end_time=time.time()\n",
        "print(\"time elapsed\", (end_time-start_time)/60)\n",
        "\n",
        "rules = rules.sort_values(['confidence', 'lift'], ascending =[False, False]) \n",
        "print(rules.head()) "
      ]
    },
    {
      "cell_type": "code",
      "execution_count": null,
      "metadata": {
        "id": "_PqD9kAYW23Q"
      },
      "outputs": [],
      "source": [
        "final_rules=rules[rules['confidence'] > 0.1]"
      ]
    },
    {
      "cell_type": "code",
      "execution_count": null,
      "metadata": {
        "id": "_BU6vdxfBLyU"
      },
      "outputs": [],
      "source": [
        "final_rules.head(10)"
      ]
    },
    {
      "cell_type": "markdown",
      "metadata": {
        "id": "09gF4Mh7EiRr"
      },
      "source": [
        "### **Visualisation**"
      ]
    },
    {
      "cell_type": "code",
      "execution_count": null,
      "metadata": {
        "id": "_KXdxkaSeT5B"
      },
      "outputs": [],
      "source": [
        "def draw_graph(rules, rules_to_show):\n",
        "  import networkx as nx\n",
        "  G1 = nx.DiGraph()\n",
        "\n",
        "  color_map = []\n",
        "  N = 50\n",
        "  colors = np.random.rand(N)\n",
        "  strs=['R0','R1', 'R2', 'R3', 'R4', 'R5', 'R6', 'R7', 'R8', 'R9', 'R10', 'R11']\n",
        "\n",
        "  for i in range(rules_to_show):\n",
        "      G1.add_nodes_from([\"R\"+str(i)])\n",
        "\n",
        "      for a in rules.iloc[i]['antecedents']:\n",
        "          G1.add_nodes_from([a])\n",
        "          G1.add_edge(a,\"R\"+str(i),color=colors[i],weight = 2)\n",
        "\n",
        "      for c in rules.iloc[i]['consequents']:\n",
        "          G1.add_nodes_from([c])\n",
        "          G1.add_edge(\"R\"+str(i),c,color=colors[i], weight = 2)\n",
        "  for node in G1:\n",
        "      found_a_string=False\n",
        "      for item in strs:\n",
        "          if node==item:\n",
        "              found_a_string = True\n",
        "      if found_a_string:\n",
        "          color_map.append('yellow')\n",
        "      else:\n",
        "          color_map.append('green')\n",
        "\n",
        "  edges = G1.edges()\n",
        "  colors = [G1[u][v]['color'] for u,v in edges]\n",
        "  weights = [G1[u][v]['weight'] for u,v in edges]\n",
        "\n",
        "  pos = nx.spring_layout(G1, k=16, scale=1)\n",
        "  nx.draw(G1, pos, node_color = color_map, edge_color = colors, width=weights, font_size=16, with_labels=False)\n",
        "\n",
        "  for p in pos:\n",
        "      pos[p][1] += 0.07\n",
        "  nx.draw_networkx_labels(G1,pos)\n",
        "  plt.show()\n",
        "\n",
        "\n"
      ]
    },
    {
      "cell_type": "code",
      "execution_count": null,
      "metadata": {
        "id": "ng3aZjEdYK84"
      },
      "outputs": [],
      "source": [
        "support = rules['support'].values\n",
        "confidence = rules['confidence'].values\n",
        "\n",
        "import seaborn as sns1\n",
        "\n",
        "plt.title('Association Rules')\n",
        "plt.xlabel('support')\n",
        "plt.ylabel('confidence')\n",
        "sns1.regplot(x=support,y=confidence,fit_reg=False)\n",
        "\n",
        "plt.gcf().clear()\n",
        "draw_graph(rules,6)"
      ]
    },
    {
      "cell_type": "markdown",
      "metadata": {
        "id": "5nZp5kpcIStj"
      },
      "source": [
        "FP Growth\n"
      ]
    },
    {
      "cell_type": "code",
      "execution_count": null,
      "metadata": {
        "id": "fTqDyIvKfPWG"
      },
      "outputs": [],
      "source": [
        "import itertools as it\n",
        "from itertools import *\n",
        "\n",
        "# help function\n",
        "def partition(pred, iterable):\n",
        "    t1, t2 = it.tee(iterable)\n",
        "    return it.filterfalse(pred, t1), filter(pred, t2)\n",
        "\n",
        "# divides list on all possible pairs\n",
        "def part2(el_list):\n",
        "    pairs = [[[x[1] for x in f] for f in partition(lambda x: x[0], zip(pattern, el_list))] \\\n",
        "     for pattern in product([True, False], repeat=len(el_list))]\n",
        "    # remove pairs as [] -> [some content], [some content] -> []\n",
        "    return pairs[1:-1]"
      ]
    },
    {
      "cell_type": "code",
      "execution_count": null,
      "metadata": {
        "id": "T4liLniyRGfh"
      },
      "outputs": [],
      "source": [
        "\n"
      ]
    },
    {
      "cell_type": "code",
      "execution_count": null,
      "metadata": {
        "id": "1GtGGy-Njy8j"
      },
      "outputs": [],
      "source": [
        "from mlxtend.frequent_patterns import fpgrowth\n",
        "import time\n",
        "\n",
        "start_time=time.time()\n",
        "f_patterns = fpgrowth(df_new, min_support=0.005, use_colnames=True)\n",
        "f_patterns\n",
        "end_time=time.time()\n",
        "\n",
        "# convert dataframe to dictionary\n",
        "supports = f_patterns['support'].to_list()\n",
        "itemsets = f_patterns['itemsets'].to_list()\n",
        "\n",
        "patterns_dict = {}\n",
        "for x in range(len(itemsets)):\n",
        "    patterns_dict[tuple(sorted(itemsets[x]))] = supports[x]\n",
        "\n",
        "# generate asssociation_rules\n",
        "as_rules_dict = {'antecedents': [], 'consequents': [], 'confidence': [], 'support': []}\n",
        "for pattern, support in patterns_dict.items():\n",
        "    if len(pattern) > 1:\n",
        "        upper_support = support\n",
        "        as_rules = part2(pattern)\n",
        "        \n",
        "        for as_r in as_rules:\n",
        "            left_part = sorted(as_r[0])\n",
        "            right_part = as_r[1]\n",
        "            lower_support = patterns_dict[tuple(left_part)]\n",
        "            conf = upper_support / lower_support\n",
        "            \n",
        "            as_rules_dict['antecedents'].append(left_part)\n",
        "            as_rules_dict['consequents'].append(right_part)\n",
        "            as_rules_dict['confidence'].append(conf)\n",
        "            as_rules_dict['support'].append(upper_support)\n",
        "            \n",
        "print(\"time elapsed\", (end_time-start_time)/60)\n",
        "\n",
        "strong_as_rules = pd.DataFrame.from_dict(as_rules_dict)\n",
        "# sort by confidence, remove all rules with confidence lower than 0.8\n",
        "strong_as_rules = strong_as_rules.sort_values('confidence', ascending=False)\n",
        "strong_as_rules = strong_as_rules[strong_as_rules['confidence'] > 0.1]"
      ]
    },
    {
      "cell_type": "code",
      "execution_count": null,
      "metadata": {
        "id": "zazpCYeYlZa1"
      },
      "outputs": [],
      "source": [
        "final_as_rules=strong_as_rules\n",
        "for i in strong_as_rules.index:\n",
        "    count=0\n",
        "    count1=0\n",
        "    for a in strong_as_rules['antecedents'][i]:\n",
        "        if a in days+months+times:\n",
        "            count=count+1\n",
        "        if a in townships+days+months+times and strong_as_rules['consequents'][i][0] in townships+days+months+times:\n",
        "            count1=count1+1\n",
        "    if count==len(strong_as_rules['antecedents'][i]) or count==len(strong_as_rules['antecedents'][i]):\n",
        "        final_as_rules.drop(i,inplace=True)"
      ]
    },
    {
      "cell_type": "code",
      "execution_count": null,
      "metadata": {
        "id": "yD6ZUAb1lwJv"
      },
      "outputs": [],
      "source": [
        "support = final_as_rules['support'].values\n",
        "confidence = final_as_rules['confidence'].values\n",
        "\n",
        "for i in range (len(support)):\n",
        "    support[i] = support[i]\n",
        "    confidence[i] = confidence[i]\n",
        "\n",
        "plt.title('Association Rules')\n",
        "plt.xlabel('support')\n",
        "plt.ylabel('confidence')\n",
        "sns.regplot(x=support,y=confidence,fit_reg=False)\n",
        "\n",
        "plt.gcf().clear()\n",
        "draw_graph(final_as_rules,6)"
      ]
    },
    {
      "cell_type": "markdown",
      "metadata": {
        "id": "R_reGRNacfUe"
      },
      "source": [
        "### **Rule Cleaning**"
      ]
    },
    {
      "cell_type": "markdown",
      "metadata": {
        "id": "vZWChEa3dH0i"
      },
      "source": [
        "Traffic Accidents\n"
      ]
    },
    {
      "cell_type": "code",
      "execution_count": null,
      "metadata": {
        "id": "PpRqjEmnZZab"
      },
      "outputs": [],
      "source": [
        "list_col=[]\n",
        "for col in df_new.columns:\n",
        "  if(str(col)[:3] not in ['EMS', 'Fir', 'Oth', 'Tra']):\n",
        "    list_col.append(str(col))\n",
        "  if(str(col) in ['Traffic: VEHICLE ACCIDENT -']):\n",
        "    list_col.append(str(col))"
      ]
    },
    {
      "cell_type": "code",
      "execution_count": null,
      "metadata": {
        "id": "r2PGiA8BgFbJ"
      },
      "outputs": [],
      "source": [
        "df_Traffic=df_new.filter(list_col)"
      ]
    },
    {
      "cell_type": "code",
      "execution_count": null,
      "metadata": {
        "id": "gOMO2D_TcWK7"
      },
      "outputs": [],
      "source": [
        "frq_items = apriori(df_Traffic, min_support = 0.005, use_colnames = True,low_memory=True) \n",
        "rules_Traffic = association_rules(frq_items, metric =\"lift\", min_threshold = 0.03) \n",
        "rules_Traffic = rules_Traffic.sort_values(['confidence', 'lift'], ascending =[False, False]) \n",
        "print(rules_Traffic.head()) "
      ]
    },
    {
      "cell_type": "code",
      "execution_count": null,
      "metadata": {
        "id": "EH8p7aLNcw5_"
      },
      "outputs": [],
      "source": [
        "support = rules_Traffic['support'].values\n",
        "confidence = rules_Traffic['confidence'].values\n",
        "\n",
        "import seaborn as sns1\n",
        "\n",
        "plt.title('Association Rules')\n",
        "plt.xlabel('support')\n",
        "plt.ylabel('confidence')\n",
        "sns1.regplot(x=support,y=confidence,fit_reg=False)\n",
        "\n",
        "plt.gcf().clear()\n",
        "draw_graph(rules_Traffic,6)"
      ]
    },
    {
      "cell_type": "markdown",
      "metadata": {
        "id": "12OEhoF8dN1d"
      },
      "source": [
        "EMS"
      ]
    },
    {
      "cell_type": "code",
      "execution_count": null,
      "metadata": {
        "id": "yJs6Dz1Iddsa"
      },
      "outputs": [],
      "source": [
        "list_col=[]\n",
        "for col in df_new.columns:\n",
        "  if(str(col)[:3] not in ['EMS', 'Fir', 'Oth', 'Tra']):\n",
        "    list_col.append(str(col))\n",
        "  if(str(col) in ['EMS: OVERDOSE']):\n",
        "    list_col.append(str(col))"
      ]
    },
    {
      "cell_type": "code",
      "execution_count": null,
      "metadata": {
        "id": "PI_wbq6_ddsf"
      },
      "outputs": [],
      "source": [
        "df_EMS=df_new.filter(list_col)"
      ]
    },
    {
      "cell_type": "code",
      "execution_count": null,
      "metadata": {
        "id": "5tGAi_kiddsi"
      },
      "outputs": [],
      "source": [
        "df_EMS.head()"
      ]
    },
    {
      "cell_type": "code",
      "execution_count": null,
      "metadata": {
        "id": "d2dIfM2addsl"
      },
      "outputs": [],
      "source": [
        "frq_items = apriori(df_EMS, min_support = 0.005, use_colnames = True,low_memory=True) \n",
        "rules_EMS = association_rules(frq_items, metric =\"lift\", min_threshold = 0.03) \n",
        "rules_EMS = rules_EMS.sort_values(['confidence', 'lift'], ascending =[False, False]) \n",
        "print(rules_EMS.head()) "
      ]
    },
    {
      "cell_type": "code",
      "execution_count": null,
      "metadata": {
        "id": "xTZPfNGnddsn"
      },
      "outputs": [],
      "source": [
        "support = rules_EMS['support'].values\n",
        "confidence = rules_EMS['confidence'].values\n",
        "\n",
        "import seaborn as sns1\n",
        "\n",
        "plt.title('Association Rules')\n",
        "plt.xlabel('support')\n",
        "plt.ylabel('confidence')\n",
        "sns1.regplot(x=support,y=confidence,fit_reg=False)\n",
        "\n",
        "plt.gcf().clear()\n",
        "draw_graph(rules_EMS,6)"
      ]
    },
    {
      "cell_type": "code",
      "execution_count": null,
      "metadata": {
        "id": "jlxN3zRZyxUk"
      },
      "outputs": [],
      "source": []
    },
    {
      "cell_type": "code",
      "execution_count": null,
      "metadata": {
        "id": "Y8wreC7JViiJ"
      },
      "outputs": [],
      "source": []
    }
  ],
  "metadata": {
    "accelerator": "GPU",
    "colab": {
      "collapsed_sections": [],
      "provenance": []
    },
    "gpuClass": "standard",
    "kernelspec": {
      "display_name": "Python 3",
      "name": "python3"
    }
  },
  "nbformat": 4,
  "nbformat_minor": 0
}